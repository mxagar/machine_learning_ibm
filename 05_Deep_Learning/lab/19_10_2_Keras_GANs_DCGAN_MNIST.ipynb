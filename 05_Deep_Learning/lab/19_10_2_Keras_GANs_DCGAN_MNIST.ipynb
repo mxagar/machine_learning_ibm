{
 "cells": [
  {
   "cell_type": "markdown",
   "id": "f4673e7a-bdde-4c8b-8815-66aa2a86d3cf",
   "metadata": {},
   "source": [
    "# Generative Addversarial Networks (GANs): Deep Convolutional GANs (DCGANs)"
   ]
  },
  {
   "cell_type": "markdown",
   "id": "680ed550-f20a-4d37-a2fd-e607c64f6be8",
   "metadata": {},
   "source": [
    "Deep Convolutional GANs use convolutional layers instead of Dense of fully connected ones.\n",
    "Convolutional layers are better suited for images.\n",
    "DCGANs alleviate the mode collapse error.\n",
    "\n",
    "This notebook replicates the content in the previous, but the GAN models are built using convolutional layers; thus, look at the previous notebook if more detailed commentes are required.\n",
    "\n",
    "Major changes:\n",
    "- Images are scaled differently to be used with `tanh`\n",
    "- The model is different: convlutions are used, batch normalization, leaky ReLU (which seems to work better for GANs), etc.\n",
    "- The number of epochs should be larger; e.g., 20\n",
    "- We should try GPUs, otherwise the training is going to last a long time... Alternative: Google Colab"
   ]
  },
  {
   "cell_type": "markdown",
   "id": "e14c7f8d-54f3-4a16-b9e7-ef8378348edd",
   "metadata": {},
   "source": [
    "## Dataset"
   ]
  },
  {
   "cell_type": "code",
   "execution_count": 1,
   "id": "aa54ede6-377c-4d09-bd9e-6e294d4721e6",
   "metadata": {},
   "outputs": [],
   "source": [
    "import numpy as np\n",
    "import pandas as pd\n",
    "import matplotlib.pyplot as plt\n",
    "import seaborn as sns"
   ]
  },
  {
   "cell_type": "code",
   "execution_count": 2,
   "id": "86e6b916-f0d7-4f29-9ce6-0b98da6150e2",
   "metadata": {},
   "outputs": [],
   "source": [
    "from tensorflow.keras.datasets import mnist"
   ]
  },
  {
   "cell_type": "code",
   "execution_count": 5,
   "id": "7ca0f025-d535-44cd-ab08-538774ea528f",
   "metadata": {},
   "outputs": [],
   "source": [
    "(X_train,y_train), (X_test,y_test) = mnist.load_data()"
   ]
  },
  {
   "cell_type": "markdown",
   "id": "2dca3ae0-1df1-46f8-a9a4-d9a858d5c42a",
   "metadata": {},
   "source": [
    "### Reshape & Scale Images"
   ]
  },
  {
   "cell_type": "markdown",
   "id": "361d59ec-b59a-481d-af93-8bfe8e77b2ea",
   "metadata": {},
   "source": [
    "The Generator uses `tanh` as activation function, which generates values in `[-1,1]`. Therefore, the image/pixel values need to be adjusted."
   ]
  },
  {
   "cell_type": "code",
   "execution_count": 10,
   "id": "c6a11f4f-f323-4550-9309-50aa5add3c37",
   "metadata": {},
   "outputs": [
    {
     "data": {
      "text/plain": [
       "1.0"
      ]
     },
     "execution_count": 10,
     "metadata": {},
     "output_type": "execute_result"
    }
   ],
   "source": [
    "X_train.max()"
   ]
  },
  {
   "cell_type": "code",
   "execution_count": 11,
   "id": "c9677505-3c04-4606-ba53-f903b808cf5a",
   "metadata": {},
   "outputs": [
    {
     "data": {
      "text/plain": [
       "(60000, 28, 28, 1)"
      ]
     },
     "execution_count": 11,
     "metadata": {},
     "output_type": "execute_result"
    }
   ],
   "source": [
    "X_train.shape"
   ]
  },
  {
   "cell_type": "code",
   "execution_count": 8,
   "id": "c97942cd-fc86-4120-8921-a0fdc60fb55a",
   "metadata": {},
   "outputs": [],
   "source": [
    "X_train = X_train / X_train.max()\n",
    "X_test = X_test / X_test.max()"
   ]
  },
  {
   "cell_type": "code",
   "execution_count": 9,
   "id": "a335ee6c-73e5-4a02-8142-042b5d671787",
   "metadata": {},
   "outputs": [],
   "source": [
    "X_train = X_train.reshape(-1,28,28,1)*2.0 - 1.0"
   ]
  },
  {
   "cell_type": "code",
   "execution_count": 16,
   "id": "e31204b4-35c5-40ba-9ae5-88a5308b3577",
   "metadata": {},
   "outputs": [
    {
     "data": {
      "text/plain": [
       "(60000, 28, 28, 1)"
      ]
     },
     "execution_count": 16,
     "metadata": {},
     "output_type": "execute_result"
    }
   ],
   "source": [
    "X_train.shape"
   ]
  },
  {
   "cell_type": "code",
   "execution_count": 17,
   "id": "58f8721a-397a-4757-93f0-56e8d01d6d1c",
   "metadata": {},
   "outputs": [],
   "source": [
    "X_test = X_test.reshape(-1,28,28,1)*2.0 - 1.0"
   ]
  },
  {
   "cell_type": "markdown",
   "id": "25f2b3e3-f10d-485b-85d2-6e98a42a7030",
   "metadata": {},
   "source": [
    "### Filter Data for a Smaller Dataset"
   ]
  },
  {
   "cell_type": "code",
   "execution_count": 18,
   "id": "9ba3e972-a225-4531-a50b-b4e6e8b2d7fc",
   "metadata": {},
   "outputs": [],
   "source": [
    "# We take only images with 0 numbers to make it easier and faster - the goal is to learn\n",
    "# Also, the number 0 is quite distinct\n",
    "# However, we could choose any number\n",
    "number = 0\n",
    "only_zeros = X_train[y_train==number]"
   ]
  },
  {
   "cell_type": "markdown",
   "id": "5306c54b-04f3-4b5a-89dc-2f4d995d6a2c",
   "metadata": {},
   "source": [
    "## Model"
   ]
  },
  {
   "cell_type": "code",
   "execution_count": 26,
   "id": "fe5f123c-ea1d-4fd8-893f-9efbce813343",
   "metadata": {},
   "outputs": [],
   "source": [
    "import tensorflow as tf\n",
    "# Leaky ReLU seems to work better with DCGANs\n",
    "from tensorflow.keras.layers import Dense,Reshape,Dropout,LeakyReLU,Flatten,BatchNormalization,Conv2D,Conv2DTranspose\n",
    "from tensorflow.keras.models import Sequential"
   ]
  },
  {
   "cell_type": "code",
   "execution_count": 27,
   "id": "50595429-d8a8-4094-92a6-2cea5e144dd0",
   "metadata": {},
   "outputs": [],
   "source": [
    "np.random.seed(42)\n",
    "tf.random.set_seed(42)"
   ]
  },
  {
   "cell_type": "code",
   "execution_count": 41,
   "id": "36fed9c0-e54e-4456-a36a-8e6e49aa9db7",
   "metadata": {},
   "outputs": [],
   "source": [
    "coding_size = 100"
   ]
  },
  {
   "cell_type": "code",
   "execution_count": 24,
   "id": "0e5e2b78-9adf-46bd-838c-4e2db97c26fd",
   "metadata": {},
   "outputs": [],
   "source": [
    "generator = Sequential()\n",
    "generator.add(Dense(7 * 7 * 128, input_shape=[codings_size]))\n",
    "generator.add(Reshape([7, 7, 128]))\n",
    "generator.add(BatchNormalization())\n",
    "generator.add(Conv2DTranspose(64, kernel_size=5, strides=2, padding=\"same\",\n",
    "                                 activation=\"relu\"))\n",
    "generator.add(BatchNormalization())\n",
    "generator.add(Conv2DTranspose(1, kernel_size=5, strides=2, padding=\"same\",\n",
    "                                 activation=\"tanh\"))"
   ]
  },
  {
   "cell_type": "code",
   "execution_count": 25,
   "id": "c11dca94-c5c4-4c92-9c3b-2032bf0cd553",
   "metadata": {},
   "outputs": [],
   "source": [
    "discriminator = Sequential()\n",
    "discriminator.add(Conv2D(64, kernel_size=5, strides=2, padding=\"same\",\n",
    "                        activation=LeakyReLU(0.3),\n",
    "                        input_shape=[28, 28, 1]))\n",
    "discriminator.add(Dropout(0.5))\n",
    "discriminator.add(Conv2D(128, kernel_size=5, strides=2, padding=\"same\",\n",
    "                        activation=LeakyReLU(0.3)))\n",
    "discriminator.add(Dropout(0.5))\n",
    "discriminator.add(Flatten())\n",
    "discriminator.add(Dense(1, activation=\"sigmoid\"))"
   ]
  },
  {
   "cell_type": "code",
   "execution_count": 28,
   "id": "3ad68ccb-1863-45fd-9414-33d97844cefa",
   "metadata": {},
   "outputs": [],
   "source": [
    "GAN = Sequential([generator, discriminator])"
   ]
  },
  {
   "cell_type": "code",
   "execution_count": 29,
   "id": "4d7994c5-3414-4d0c-91a9-c77613c9d861",
   "metadata": {},
   "outputs": [],
   "source": [
    "discriminator.compile(loss=\"binary_crossentropy\", optimizer=\"adam\")\n",
    "discriminator.trainable = False"
   ]
  },
  {
   "cell_type": "code",
   "execution_count": 30,
   "id": "e67cbe3d-200b-4df8-96d7-b4af70dec532",
   "metadata": {},
   "outputs": [],
   "source": [
    "GAN.compile(loss=\"binary_crossentropy\", optimizer=\"adam\")"
   ]
  },
  {
   "cell_type": "code",
   "execution_count": 31,
   "id": "8b540a7b-c2b7-466f-8a45-cad11db7ce11",
   "metadata": {},
   "outputs": [
    {
     "name": "stdout",
     "output_type": "stream",
     "text": [
      "Model: \"sequential_2\"\n",
      "_________________________________________________________________\n",
      "Layer (type)                 Output Shape              Param #   \n",
      "=================================================================\n",
      "dense_2 (Dense)              (None, 6272)              633472    \n",
      "_________________________________________________________________\n",
      "reshape_1 (Reshape)          (None, 7, 7, 128)         0         \n",
      "_________________________________________________________________\n",
      "batch_normalization_2 (Batch (None, 7, 7, 128)         512       \n",
      "_________________________________________________________________\n",
      "conv2d_transpose_2 (Conv2DTr (None, 14, 14, 64)        204864    \n",
      "_________________________________________________________________\n",
      "batch_normalization_3 (Batch (None, 14, 14, 64)        256       \n",
      "_________________________________________________________________\n",
      "conv2d_transpose_3 (Conv2DTr (None, 28, 28, 1)         1601      \n",
      "=================================================================\n",
      "Total params: 840,705\n",
      "Trainable params: 840,321\n",
      "Non-trainable params: 384\n",
      "_________________________________________________________________\n"
     ]
    }
   ],
   "source": [
    "GAN.layers[0].summary()"
   ]
  },
  {
   "cell_type": "code",
   "execution_count": 32,
   "id": "c0a85300-47d6-42b0-997e-4eb9d539f083",
   "metadata": {},
   "outputs": [
    {
     "name": "stdout",
     "output_type": "stream",
     "text": [
      "Model: \"sequential_3\"\n",
      "_________________________________________________________________\n",
      "Layer (type)                 Output Shape              Param #   \n",
      "=================================================================\n",
      "conv2d_2 (Conv2D)            (None, 14, 14, 64)        1664      \n",
      "_________________________________________________________________\n",
      "dropout_2 (Dropout)          (None, 14, 14, 64)        0         \n",
      "_________________________________________________________________\n",
      "conv2d_3 (Conv2D)            (None, 7, 7, 128)         204928    \n",
      "_________________________________________________________________\n",
      "dropout_3 (Dropout)          (None, 7, 7, 128)         0         \n",
      "_________________________________________________________________\n",
      "flatten_1 (Flatten)          (None, 6272)              0         \n",
      "_________________________________________________________________\n",
      "dense_3 (Dense)              (None, 1)                 6273      \n",
      "=================================================================\n",
      "WARNING:tensorflow:Discrepancy between trainable weights and collected trainable weights, did you set `model.trainable` without calling `model.compile` after ?\n",
      "Total params: 425,730\n",
      "Trainable params: 212,865\n",
      "Non-trainable params: 212,865\n",
      "_________________________________________________________________\n"
     ]
    }
   ],
   "source": [
    "GAN.layers[1].summary()"
   ]
  },
  {
   "cell_type": "markdown",
   "id": "f58633eb-b770-4579-b172-68d5121f8e6d",
   "metadata": {},
   "source": [
    "## Training Batches"
   ]
  },
  {
   "cell_type": "code",
   "execution_count": 33,
   "id": "df8f4893-801a-456f-a22d-23a12e90b49c",
   "metadata": {},
   "outputs": [],
   "source": [
    "import tensorflow as tf"
   ]
  },
  {
   "cell_type": "code",
   "execution_count": 34,
   "id": "0c415c70-0830-4445-b558-0bd9c38ff5d1",
   "metadata": {},
   "outputs": [],
   "source": [
    "batch_size = 32"
   ]
  },
  {
   "cell_type": "code",
   "execution_count": 35,
   "id": "7571fae8-4b19-4e5e-adb0-72b5e33e4396",
   "metadata": {},
   "outputs": [],
   "source": [
    "# my_data = X_train\n",
    "my_data = only_zeros"
   ]
  },
  {
   "cell_type": "code",
   "execution_count": 36,
   "id": "be5474af-35b4-4039-a20e-b3548d18f80b",
   "metadata": {},
   "outputs": [],
   "source": [
    "dataset = tf.data.Dataset.from_tensor_slices(my_data).shuffle(buffer_size=1000)"
   ]
  },
  {
   "cell_type": "code",
   "execution_count": 37,
   "id": "a0dd04d1-6e65-4de4-a714-fb00ddcaaaef",
   "metadata": {},
   "outputs": [],
   "source": [
    "dataset = dataset.batch(batch_size, drop_remainder=True).prefetch(1)"
   ]
  },
  {
   "cell_type": "markdown",
   "id": "446df383-9270-4fdc-8cbf-89afb03cc380",
   "metadata": {},
   "source": [
    "## Training Loop"
   ]
  },
  {
   "cell_type": "code",
   "execution_count": 51,
   "id": "5ee7bbc6-3286-488f-9152-c6ff119b569c",
   "metadata": {},
   "outputs": [],
   "source": [
    "# It presumably works better with more epochs, e.g., 20\n",
    "epochs = 5"
   ]
  },
  {
   "cell_type": "code",
   "execution_count": 44,
   "id": "f7f18e23-39ad-4927-a78a-d11ff9d64371",
   "metadata": {},
   "outputs": [],
   "source": [
    "# Unpack the GAN models\n",
    "generator, discriminator = GAN.layers"
   ]
  },
  {
   "cell_type": "code",
   "execution_count": 45,
   "id": "e96f4a7f-eec5-463e-b639-7ce65497fcc1",
   "metadata": {},
   "outputs": [
    {
     "name": "stdout",
     "output_type": "stream",
     "text": [
      "Currently in Epoch 1\n",
      "\tCurrently in Batch 50 of 185\n",
      "\tCurrently in Batch 100 of 185\n",
      "\tCurrently in Batch 150 of 185\n",
      "Currently in Epoch 2\n",
      "\tCurrently in Batch 50 of 185\n",
      "\tCurrently in Batch 100 of 185\n",
      "\tCurrently in Batch 150 of 185\n",
      "Currently in Epoch 3\n",
      "\tCurrently in Batch 50 of 185\n",
      "\tCurrently in Batch 100 of 185\n",
      "\tCurrently in Batch 150 of 185\n",
      "Currently in Epoch 4\n",
      "\tCurrently in Batch 50 of 185\n",
      "\tCurrently in Batch 100 of 185\n",
      "\tCurrently in Batch 150 of 185\n",
      "Currently in Epoch 5\n",
      "\tCurrently in Batch 50 of 185\n",
      "\tCurrently in Batch 100 of 185\n",
      "\tCurrently in Batch 150 of 185\n",
      "Training Complete!\n"
     ]
    }
   ],
   "source": [
    "for epoch in range(epochs):\n",
    "    print(f\"Currently in Epoch {epoch+1}\")\n",
    "    # Batch counter/tracker\n",
    "    i = 0\n",
    "    for X_batch in dataset:\n",
    "        # Batch counter\n",
    "        i = i + 1\n",
    "        if i%50 == 0:\n",
    "            print(f\"\\tCurrently in Batch {i} of {len(my_data)//batch_size}\")\n",
    "            \n",
    "        # Phase 1: DISCRIMINATOR TRAINING\n",
    "        # We create the latent noise vector: batch x latent space\n",
    "        noise = tf.random.normal(shape=[batch_size,coding_size])\n",
    "        # Feed the Generator with the noise vector to generate images\n",
    "        gen_images = generator(noise)\n",
    "        # Conocatenate fake & real images\n",
    "        # We need to cast our real images\n",
    "        X_fake_vs_real = tf.concat([gen_images,tf.dtypes.cast(X_batch,tf.float32)],axis=0)\n",
    "        # Set target label\n",
    "        # We expand lists of 0.0 and 1.0 elements and concatenate them\n",
    "        # We do that regardless on how many classes we have!\n",
    "        y1 = tf.constant([[0.0]]*batch_size + [[1.0]]*batch_size)\n",
    "        # We make the Discriminator trainable\n",
    "        # It was not trainable in order to compile the GAN above\n",
    "        discriminator.trainable = True\n",
    "        # Train one batch\n",
    "        discriminator.train_on_batch(X_fake_vs_real,y1)\n",
    "        \n",
    "        # Phase 2: GENERATOR TRAINING\n",
    "        # Create latent noise, as before\n",
    "        noise = tf.random.normal(shape=[batch_size,coding_size])\n",
    "        # We create FAKE images, but LABEL THEM AS REAL\n",
    "        y2 = tf.constant([[1.0]]*batch_size)\n",
    "        # Switch off Dirscriminator training\n",
    "        discriminator.trainable = False\n",
    "        # Train complete GAN on the batch:\n",
    "        # noise fed to Generator -> \n",
    "        # output to Discriminator ->\n",
    "        # custom ground truth (real but fake) used to compute loss\n",
    "        GAN.train_on_batch(noise,y2)\n",
    "\n",
    "print(\"Training Complete!\")"
   ]
  },
  {
   "cell_type": "markdown",
   "id": "43927bbf-67a0-4302-932d-638110205117",
   "metadata": {},
   "source": [
    "## Inference"
   ]
  },
  {
   "cell_type": "code",
   "execution_count": 48,
   "id": "7251adec-8682-413a-802a-988d78db23b6",
   "metadata": {},
   "outputs": [],
   "source": [
    "# Noise vectors\n",
    "noise = tf.random.normal(shape=[10, codings_size])"
   ]
  },
  {
   "cell_type": "code",
   "execution_count": 49,
   "id": "06760cd1-ce44-4018-b84e-1e1152b970d9",
   "metadata": {},
   "outputs": [
    {
     "data": {
      "text/plain": [
       "<matplotlib.image.AxesImage at 0x7fa0f187ea10>"
      ]
     },
     "execution_count": 49,
     "metadata": {},
     "output_type": "execute_result"
    },
    {
     "data": {
      "image/png": "[encoded data removed]",
      "text/plain": [
       "<Figure size 432x288 with 1 Axes>"
      ]
     },
     "metadata": {
      "needs_background": "light"
     },
     "output_type": "display_data"
    }
   ],
   "source": [
    "plt.imshow(noise)"
   ]
  },
  {
   "cell_type": "code",
   "execution_count": 47,
   "id": "601688b6-2fad-4eb1-a554-71e9139275c5",
   "metadata": {},
   "outputs": [],
   "source": [
    "images = generator(noise)"
   ]
  },
  {
   "cell_type": "code",
   "execution_count": 50,
   "id": "5cec174b-1ce2-4239-90a9-77bdb6c3b920",
   "metadata": {},
   "outputs": [
    {
     "data": {
      "image/png": "[encoded data removed]",
      "text/plain": [
       "<Figure size 432x288 with 1 Axes>"
      ]
     },
     "metadata": {
      "needs_background": "light"
     },
     "output_type": "display_data"
    },
    {
     "data": {
      "image/png": "[encoded data removed]",
      "text/plain": [
       "<Figure size 432x288 with 1 Axes>"
      ]
     },
     "metadata": {
      "needs_background": "light"
     },
     "output_type": "display_data"
    },
    {
     "data": {
      "image/png": "[encoded data removed]",
      "text/plain": [
       "<Figure size 432x288 with 1 Axes>"
      ]
     },
     "metadata": {
      "needs_background": "light"
     },
     "output_type": "display_data"
    },
    {
     "data": {
      "image/png": "[encoded data removed]",
      "text/plain": [
       "<Figure size 432x288 with 1 Axes>"
      ]
     },
     "metadata": {
      "needs_background": "light"
     },
     "output_type": "display_data"
    },
    {
     "data": {
      "image/png": "[encoded data removed]",
      "text/plain": [
       "<Figure size 432x288 with 1 Axes>"
      ]
     },
     "metadata": {
      "needs_background": "light"
     },
     "output_type": "display_data"
    },
    {
     "data": {
      "image/png": "[encoded data removed]",
      "text/plain": [
       "<Figure size 432x288 with 1 Axes>"
      ]
     },
     "metadata": {
      "needs_background": "light"
     },
     "output_type": "display_data"
    },
    {
     "data": {
      "image/png": "[encoded data removed]",
      "text/plain": [
       "<Figure size 432x288 with 1 Axes>"
      ]
     },
     "metadata": {
      "needs_background": "light"
     },
     "output_type": "display_data"
    },
    {
     "data": {
      "image/png": "[encoded data removed]",
      "text/plain": [
       "<Figure size 432x288 with 1 Axes>"
      ]
     },
     "metadata": {
      "needs_background": "light"
     },
     "output_type": "display_data"
    },
    {
     "data": {
      "image/png": "[encoded data removed]",
      "text/plain": [
       "<Figure size 432x288 with 1 Axes>"
      ]
     },
     "metadata": {
      "needs_background": "light"
     },
     "output_type": "display_data"
    },
    {
     "data": {
      "image/png": "[encoded data removed]",
      "text/plain": [
       "<Figure size 432x288 with 1 Axes>"
      ]
     },
     "metadata": {
      "needs_background": "light"
     },
     "output_type": "display_data"
    }
   ],
   "source": [
    "for image in images:\n",
    "    plt.imshow(image.numpy().reshape(28,28))\n",
    "    plt.show()"
   ]
  },
  {
   "cell_type": "code",
   "execution_count": null,
   "id": "b2786187-dac6-49f3-8ffb-9f812699862b",
   "metadata": {},
   "outputs": [],
   "source": []
  }
 ],
 "metadata": {
  "kernelspec": {
   "display_name": "Python 3 (ipykernel)",
   "language": "python",
   "name": "python3"
  },
  "language_info": {
   "codemirror_mode": {
    "name": "ipython",
    "version": 3
   },
   "file_extension": ".py",
   "mimetype": "text/x-python",
   "name": "python",
   "nbconvert_exporter": "python",
   "pygments_lexer": "ipython3",
   "version": "3.7.13"
  }
 },
 "nbformat": 4,
 "nbformat_minor": 5
}
