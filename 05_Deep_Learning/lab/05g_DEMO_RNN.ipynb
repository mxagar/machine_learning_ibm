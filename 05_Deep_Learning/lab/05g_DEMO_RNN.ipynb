{
 "cells": [
  {
   "cell_type": "markdown",
   "metadata": {
    "run_control": {
     "marked": true
    }
   },
   "source": [
    "# Machine Learning Foundation\n",
    "\n",
    "## Course 5, Part g: RNN DEMO"
   ]
  },
  {
   "cell_type": "markdown",
   "metadata": {},
   "source": [
    "## Using RNNs to classify sentiment on IMDB data\n",
    "For this exercise, we will train a \"vanilla\" RNN to predict the sentiment on IMDB reviews.  Our data consists of 25000 training sequences and 25000 test sequences.  The outcome is binary (positive/negative) and both outcomes are equally represented in both the training and the test set.\n",
    "\n",
    "Keras provides a convenient interface to load the data and immediately encode the words into integers (based on the most common words).  This will save us a lot of the drudgery that is usually involved when working with raw text.\n",
    "\n",
    "We will walk through the preparation of the data and the building of an RNN model.  Then it will be your turn to build your own models (and prepare the data how you see fit)."
   ]
  },
  {
   "cell_type": "code",
   "execution_count": 1,
   "metadata": {},
   "outputs": [
    {
     "name": "stderr",
     "output_type": "stream",
     "text": [
      "Using TensorFlow backend.\n"
     ]
    }
   ],
   "source": [
    "#from tensorflow import keras\n",
    "#from tensorflow.keras.preprocessing import sequence\n",
    "#from tensorflow.keras.models import Sequential\n",
    "#from tensorflow.keras.layers import Dense, Embedding\n",
    "#from tensorflow.keras.layers import SimpleRNN\n",
    "#from tensorflow.keras.datasets import imdb\n",
    "#from tensorflow.keras import initializers\n",
    "import keras\n",
    "from keras.preprocessing import sequence\n",
    "from keras.models import Sequential\n",
    "from keras.layers import Dense, Embedding\n",
    "from keras.layers import SimpleRNN\n",
    "from keras.datasets import imdb\n",
    "from keras import initializers"
   ]
  },
  {
   "cell_type": "code",
   "execution_count": 2,
   "metadata": {},
   "outputs": [],
   "source": [
    "max_features = 20000  # This is used in loading the data, picks the most common (max_features) words\n",
    "maxlen = 30  # maximum length of a sequence - truncate after this\n",
    "batch_size = 32"
   ]
  },
  {
   "cell_type": "code",
   "execution_count": 3,
   "metadata": {},
   "outputs": [
    {
     "name": "stdout",
     "output_type": "stream",
     "text": [
      "Downloading data from https://s3.amazonaws.com/text-datasets/imdb.npz\n",
      "17465344/17464789 [==============================] - 11s 1us/step\n"
     ]
    },
    {
     "name": "stderr",
     "output_type": "stream",
     "text": [
      "/Users/mxagar/opt/anaconda3/envs/tf/lib/python3.7/site-packages/keras/datasets/imdb.py:101: VisibleDeprecationWarning: Creating an ndarray from ragged nested sequences (which is a list-or-tuple of lists-or-tuples-or ndarrays with different lengths or shapes) is deprecated. If you meant to do this, you must specify 'dtype=object' when creating the ndarray\n",
      "  x_train, y_train = np.array(xs[:idx]), np.array(labels[:idx])\n"
     ]
    },
    {
     "name": "stdout",
     "output_type": "stream",
     "text": [
      "25000 train sequences\n",
      "25000 test sequences\n"
     ]
    },
    {
     "name": "stderr",
     "output_type": "stream",
     "text": [
      "/Users/mxagar/opt/anaconda3/envs/tf/lib/python3.7/site-packages/keras/datasets/imdb.py:102: VisibleDeprecationWarning: Creating an ndarray from ragged nested sequences (which is a list-or-tuple of lists-or-tuples-or ndarrays with different lengths or shapes) is deprecated. If you meant to do this, you must specify 'dtype=object' when creating the ndarray\n",
      "  x_test, y_test = np.array(xs[idx:]), np.array(labels[idx:])\n"
     ]
    }
   ],
   "source": [
    "## Load in the data.  The function automatically tokenizes the text into distinct integers\n",
    "(x_train, y_train), (x_test, y_test) = imdb.load_data(num_words=max_features)\n",
    "print(len(x_train), 'train sequences')\n",
    "print(len(x_test), 'test sequences')"
   ]
  },
  {
   "cell_type": "code",
   "execution_count": 4,
   "metadata": {},
   "outputs": [
    {
     "name": "stdout",
     "output_type": "stream",
     "text": [
      "x_train shape: (25000, 30)\n",
      "x_test shape: (25000, 30)\n"
     ]
    }
   ],
   "source": [
    "# This pads (or truncates) the sequences so that they are of the maximum length\n",
    "# The length of the sequence is very important:\n",
    "# - if too short, we might fail to capture context correctly\n",
    "# - if too long, the memory cannot store all the information\n",
    "x_train = sequence.pad_sequences(x_train, maxlen=maxlen)\n",
    "x_test = sequence.pad_sequences(x_test, maxlen=maxlen)\n",
    "print('x_train shape:', x_train.shape)\n",
    "print('x_test shape:', x_test.shape)"
   ]
  },
  {
   "cell_type": "code",
   "execution_count": 6,
   "metadata": {},
   "outputs": [
    {
     "data": {
      "text/plain": [
       "array([  219,   141,    35,   221,   956,    54,    13,    16,    11,\n",
       "        2714,    61,   322,   423,    12,    38,    76,    59,  1803,\n",
       "          72,     8, 10508,    23,     5,   967,    12,    38,    85,\n",
       "          62,   358,    99], dtype=int32)"
      ]
     },
     "execution_count": 6,
     "metadata": {},
     "output_type": "execute_result"
    }
   ],
   "source": [
    "x_train[123,:]  #Here's what an example sequence looks like"
   ]
  },
  {
   "cell_type": "markdown",
   "metadata": {},
   "source": [
    "## Keras layers for (Vanilla) RNNs\n",
    "\n",
    "In this exercise, we will not use pre-trained word vectors.  Rather we will learn an embedding as part of the Neural Network.  This is represented by the Embedding Layer below.\n",
    "\n",
    "### Embedding Layer\n",
    "`keras.layers.embeddings.Embedding(input_dim, output_dim, embeddings_initializer='uniform', embeddings_regularizer=None, activity_regularizer=None, embeddings_constraint=None, mask_zero=False, input_length=None)`\n",
    "\n",
    "- This layer maps each integer into a distinct (dense) word vector of length `output_dim`.\n",
    "- Can think of this as learning a word vector embedding \"on the fly\" rather than using an existing mapping (like GloVe)\n",
    "- The `input_dim` should be the size of the vocabulary.\n",
    "- The `input_length` specifies the length of the sequences that the network expects.\n",
    "\n",
    "### SimpleRNN Layer\n",
    "`keras.layers.recurrent.SimpleRNN(units, activation='tanh', use_bias=True, kernel_initializer='glorot_uniform', recurrent_initializer='orthogonal', bias_initializer='zeros', kernel_regularizer=None, recurrent_regularizer=None, bias_regularizer=None, activity_regularizer=None, kernel_constraint=None, recurrent_constraint=None, bias_constraint=None, dropout=0.0, recurrent_dropout=0.0)`\n",
    "\n",
    "- This is the basic RNN, where the output is also fed back as the \"hidden state\" to the next iteration.\n",
    "- The parameter `units` gives the dimensionality of the output (and therefore the hidden state).  Note that typically there will be another layer after the RNN mapping the (RNN) output to the network output.  So we should think of this value as the desired dimensionality of the hidden state and not necessarily the desired output of the network.\n",
    "- Recall that there are two sets of weights, one for the \"recurrent\" phase and the other for the \"kernel\" phase.  These can be configured separately in terms of their initialization, regularization, etc.\n",
    "\n",
    "\n",
    "\n",
    "\n"
   ]
  },
  {
   "cell_type": "code",
   "execution_count": 7,
   "metadata": {},
   "outputs": [],
   "source": [
    "## Let's build a RNN\n",
    "\n",
    "rnn_hidden_dim = 5 # dim of hidden state = dim of the output\n",
    "word_embedding_dim = 50 # dim of word vectors\n",
    "model_rnn = Sequential()\n",
    "# Embedding: This layer takes each integer in the sequence\n",
    "# and embeds it in a 50-dimensional vector\n",
    "model_rnn.add(Embedding(input_dim=max_features, # vocabulary size\n",
    "                        output_dim=word_embedding_dim)) # word vector size\n",
    "# A SimpleRNN is the recurrent layer model with the mappings U, W, V = W_x, W_s, W_y\n",
    "# The hidden state is passed automatically after each step in the sequence\n",
    "# The size of the output is the size of the hidden state\n",
    "# Usually the last output is taken only\n",
    "# The kernel (U = W_x) and recurrent (W = W_s) mappings can be controlled\n",
    "# independently for initialization and regularization\n",
    "# IMPORTANT REMARK: in Keras, apparently, the mapping V = W_y is not done automatically,\n",
    "# we need to do it manually with a Dense() layer\n",
    "model_rnn.add(SimpleRNN(units=rnn_hidden_dim, # output size = hidden state size\n",
    "                    # U = W_x: input weights: (word_embedding_dim, rnn_hidden_dim) = (50, 5)\n",
    "                    kernel_initializer=initializers.RandomNormal(stddev=0.001),\n",
    "                    # W = W_s: hidden state weights: (s, s) = (5, 5)\n",
    "                    recurrent_initializer=initializers.Identity(gain=1.0),\n",
    "                    activation='relu', # also frequent: tanh\n",
    "                    input_shape=x_train.shape[1:]))\n",
    "\n",
    "# Sentiment analysis: sentiment score\n",
    "model_rnn.add(Dense(units=1, activation='sigmoid'))"
   ]
  },
  {
   "cell_type": "code",
   "execution_count": 8,
   "metadata": {},
   "outputs": [
    {
     "name": "stdout",
     "output_type": "stream",
     "text": [
      "Model: \"sequential_2\"\n",
      "_________________________________________________________________\n",
      "Layer (type)                 Output Shape              Param #   \n",
      "=================================================================\n",
      "embedding_2 (Embedding)      (None, None, 50)          1000000   \n",
      "_________________________________________________________________\n",
      "simple_rnn_2 (SimpleRNN)     (None, 5)                 280       \n",
      "_________________________________________________________________\n",
      "dense_2 (Dense)              (None, 1)                 6         \n",
      "=================================================================\n",
      "Total params: 1,000,286\n",
      "Trainable params: 1,000,286\n",
      "Non-trainable params: 0\n",
      "_________________________________________________________________\n"
     ]
    }
   ],
   "source": [
    "## Note that most of the parameters come from the embedding layer\n",
    "model_rnn.summary()"
   ]
  },
  {
   "cell_type": "code",
   "execution_count": 10,
   "metadata": {},
   "outputs": [],
   "source": [
    "rmsprop = keras.optimizers.RMSprop(lr = .0001)\n",
    "\n",
    "model_rnn.compile(loss='binary_crossentropy',\n",
    "              optimizer=rmsprop,\n",
    "              metrics=['accuracy'])"
   ]
  },
  {
   "cell_type": "code",
   "execution_count": 11,
   "metadata": {},
   "outputs": [
    {
     "name": "stderr",
     "output_type": "stream",
     "text": [
      "/Users/mxagar/opt/anaconda3/envs/tf/lib/python3.7/site-packages/tensorflow_core/python/framework/indexed_slices.py:424: UserWarning: Converting sparse IndexedSlices to a dense Tensor of unknown shape. This may consume a large amount of memory.\n",
      "  \"Converting sparse IndexedSlices to a dense Tensor of unknown shape. \"\n"
     ]
    },
    {
     "name": "stdout",
     "output_type": "stream",
     "text": [
      "Train on 25000 samples, validate on 25000 samples\n",
      "Epoch 1/10\n",
      "25000/25000 [==============================] - 21s 844us/step - loss: 0.6686 - accuracy: 0.6182 - val_loss: 0.6198 - val_accuracy: 0.6704\n",
      "Epoch 2/10\n",
      "25000/25000 [==============================] - 22s 890us/step - loss: 0.5704 - accuracy: 0.7067 - val_loss: 0.5593 - val_accuracy: 0.7070\n",
      "Epoch 3/10\n",
      "25000/25000 [==============================] - 21s 848us/step - loss: 0.5124 - accuracy: 0.7494 - val_loss: 0.5269 - val_accuracy: 0.7320\n",
      "Epoch 4/10\n",
      "25000/25000 [==============================] - 21s 834us/step - loss: 0.4742 - accuracy: 0.7748 - val_loss: 0.5048 - val_accuracy: 0.7483\n",
      "Epoch 5/10\n",
      "25000/25000 [==============================] - 21s 830us/step - loss: 0.4453 - accuracy: 0.7942 - val_loss: 0.4939 - val_accuracy: 0.7552\n",
      "Epoch 6/10\n",
      "25000/25000 [==============================] - 75s 3ms/step - loss: 0.4226 - accuracy: 0.8078 - val_loss: 0.4760 - val_accuracy: 0.7682\n",
      "Epoch 7/10\n",
      "25000/25000 [==============================] - 233s 9ms/step - loss: 0.4048 - accuracy: 0.8177 - val_loss: 0.4634 - val_accuracy: 0.7754\n",
      "Epoch 8/10\n",
      "25000/25000 [==============================] - 275s 11ms/step - loss: 0.3906 - accuracy: 0.8254 - val_loss: 0.4596 - val_accuracy: 0.7794\n",
      "Epoch 9/10\n",
      "25000/25000 [==============================] - 22s 877us/step - loss: 0.3796 - accuracy: 0.8330 - val_loss: 0.4584 - val_accuracy: 0.7809\n",
      "Epoch 10/10\n",
      "25000/25000 [==============================] - 95s 4ms/step - loss: 0.3710 - accuracy: 0.8373 - val_loss: 0.4532 - val_accuracy: 0.7854\n"
     ]
    },
    {
     "data": {
      "text/plain": [
       "<keras.callbacks.callbacks.History at 0x7fcd74d7bad0>"
      ]
     },
     "execution_count": 11,
     "metadata": {},
     "output_type": "execute_result"
    }
   ],
   "source": [
    "model_rnn.fit(x_train, y_train,\n",
    "          batch_size=batch_size,\n",
    "          epochs=10,\n",
    "          validation_data=(x_test, y_test))"
   ]
  },
  {
   "cell_type": "code",
   "execution_count": 12,
   "metadata": {},
   "outputs": [
    {
     "name": "stdout",
     "output_type": "stream",
     "text": [
      "25000/25000 [==============================] - 3s 106us/step\n",
      "Test score: 0.4531511457252502\n",
      "Test accuracy: 0.7853999733924866\n"
     ]
    }
   ],
   "source": [
    "score, acc = model_rnn.evaluate(x_test, y_test,\n",
    "                            batch_size=batch_size)\n",
    "print('Test score:', score)\n",
    "print('Test accuracy:', acc)"
   ]
  },
  {
   "cell_type": "markdown",
   "metadata": {},
   "source": [
    "## Exercise\n",
    "\n",
    "In this exercise, we will illustrate:\n",
    "- Preparing the data to use sequences of length 80 rather than length 30.  Does it improve the performance?\n",
    "- Trying different values of the \"max_features\".  Does this  improve the performance?\n",
    "- Trying smaller and larger sizes of the RNN hidden dimension.  How does it affect the model performance?  How does it affect the run time?"
   ]
  },
  {
   "cell_type": "code",
   "execution_count": 13,
   "metadata": {},
   "outputs": [
    {
     "name": "stderr",
     "output_type": "stream",
     "text": [
      "/Users/mxagar/opt/anaconda3/envs/tf/lib/python3.7/site-packages/keras/datasets/imdb.py:101: VisibleDeprecationWarning: Creating an ndarray from ragged nested sequences (which is a list-or-tuple of lists-or-tuples-or ndarrays with different lengths or shapes) is deprecated. If you meant to do this, you must specify 'dtype=object' when creating the ndarray\n",
      "  x_train, y_train = np.array(xs[:idx]), np.array(labels[:idx])\n",
      "/Users/mxagar/opt/anaconda3/envs/tf/lib/python3.7/site-packages/keras/datasets/imdb.py:102: VisibleDeprecationWarning: Creating an ndarray from ragged nested sequences (which is a list-or-tuple of lists-or-tuples-or ndarrays with different lengths or shapes) is deprecated. If you meant to do this, you must specify 'dtype=object' when creating the ndarray\n",
      "  x_test, y_test = np.array(xs[idx:]), np.array(labels[idx:])\n"
     ]
    }
   ],
   "source": [
    "max_features = 20000  # This is used in loading the data, picks the most common (max_features) words\n",
    "maxlen = 80  # maximum length of a sequence - truncate after this\n",
    "\n",
    "(x_train, y_train), (x_test, y_test) = imdb.load_data(num_words=max_features)\n",
    "\n",
    "x_train = sequence.pad_sequences(x_train, maxlen=maxlen)\n",
    "x_test = sequence.pad_sequences(x_test, maxlen=maxlen)"
   ]
  },
  {
   "cell_type": "code",
   "execution_count": 14,
   "metadata": {},
   "outputs": [],
   "source": [
    "rnn_hidden_dim = 5\n",
    "word_embedding_dim = 50\n",
    "model_rnn = Sequential()\n",
    "model_rnn.add(Embedding(max_features, word_embedding_dim))  #This layer takes each integer in the sequence\n",
    "model_rnn.add(SimpleRNN(rnn_hidden_dim,\n",
    "                    kernel_initializer=initializers.RandomNormal(stddev=0.001),\n",
    "                    recurrent_initializer=initializers.Identity(gain=1.0),\n",
    "                    activation='relu',\n",
    "                    input_shape=x_train.shape[1:]))\n",
    "\n",
    "model_rnn.add(Dense(1, activation='sigmoid'))"
   ]
  },
  {
   "cell_type": "code",
   "execution_count": 15,
   "metadata": {},
   "outputs": [],
   "source": [
    "rmsprop = keras.optimizers.RMSprop(lr = .0001)\n",
    "\n",
    "model_rnn.compile(loss='binary_crossentropy',\n",
    "              optimizer=rmsprop,\n",
    "              metrics=['accuracy'])"
   ]
  },
  {
   "cell_type": "code",
   "execution_count": null,
   "metadata": {},
   "outputs": [
    {
     "name": "stderr",
     "output_type": "stream",
     "text": [
      "/Users/mxagar/opt/anaconda3/envs/tf/lib/python3.7/site-packages/tensorflow_core/python/framework/indexed_slices.py:424: UserWarning: Converting sparse IndexedSlices to a dense Tensor of unknown shape. This may consume a large amount of memory.\n",
      "  \"Converting sparse IndexedSlices to a dense Tensor of unknown shape. \"\n"
     ]
    },
    {
     "name": "stdout",
     "output_type": "stream",
     "text": [
      "Train on 25000 samples, validate on 25000 samples\n",
      "Epoch 1/10\n",
      "25000/25000 [==============================] - 520s 21ms/step - loss: 0.5892 - accuracy: 0.6803 - val_loss: 0.5033 - val_accuracy: 0.7525\n",
      "Epoch 2/10\n",
      "25000/25000 [==============================] - 1477s 59ms/step - loss: 0.4450 - accuracy: 0.7946 - val_loss: 0.4451 - val_accuracy: 0.7877\n",
      "Epoch 3/10\n",
      "25000/25000 [==============================] - 233s 9ms/step - loss: 0.3790 - accuracy: 0.8318 - val_loss: 0.4123 - val_accuracy: 0.8093\n",
      "Epoch 4/10\n",
      "25000/25000 [==============================] - 442s 18ms/step - loss: 0.3378 - accuracy: 0.8553 - val_loss: 0.3917 - val_accuracy: 0.8214\n",
      "Epoch 5/10\n",
      "14176/25000 [================>.............] - ETA: 2:42 - loss: 0.3093 - accuracy: 0.8683"
     ]
    }
   ],
   "source": [
    "model_rnn.fit(x_train, y_train,\n",
    "          batch_size=batch_size,\n",
    "          epochs=10,\n",
    "          validation_data=(x_test, y_test))"
   ]
  },
  {
   "cell_type": "code",
   "execution_count": 15,
   "metadata": {},
   "outputs": [],
   "source": [
    "max_features = 5000  # This is used in loading the data, picks the most common (max_features) words\n",
    "maxlen = 80  # maximum length of a sequence - truncate after this\n",
    "\n",
    "(x_train, y_train), (x_test, y_test) = imdb.load_data(num_words=max_features)\n",
    "\n",
    "x_train = sequence.pad_sequences(x_train, maxlen=maxlen)\n",
    "x_test = sequence.pad_sequences(x_test, maxlen=maxlen)"
   ]
  },
  {
   "cell_type": "code",
   "execution_count": 16,
   "metadata": {},
   "outputs": [],
   "source": [
    "rnn_hidden_dim = 5\n",
    "word_embedding_dim = 20\n",
    "model_rnn = Sequential()\n",
    "model_rnn.add(Embedding(max_features, word_embedding_dim))  #This layer takes each integer in the sequence\n",
    "model_rnn.add(SimpleRNN(rnn_hidden_dim,\n",
    "                    kernel_initializer=initializers.RandomNormal(stddev=0.001),\n",
    "                    recurrent_initializer=initializers.Identity(gain=1.0),\n",
    "                    activation='relu',\n",
    "                    input_shape=x_train.shape[1:]))\n",
    "\n",
    "model_rnn.add(Dense(1, activation='sigmoid'))"
   ]
  },
  {
   "cell_type": "code",
   "execution_count": 17,
   "metadata": {},
   "outputs": [],
   "source": [
    "rmsprop = keras.optimizers.RMSprop(lr = .0001)\n",
    "\n",
    "model_rnn.compile(loss='binary_crossentropy',\n",
    "              optimizer=rmsprop,\n",
    "              metrics=['accuracy'])"
   ]
  },
  {
   "cell_type": "code",
   "execution_count": 18,
   "metadata": {},
   "outputs": [
    {
     "name": "stderr",
     "output_type": "stream",
     "text": [
      "C:\\ProgramData\\Anaconda3\\lib\\site-packages\\tensorflow_core\\python\\framework\\indexed_slices.py:433: UserWarning: Converting sparse IndexedSlices to a dense Tensor of unknown shape. This may consume a large amount of memory.\n",
      "  \"Converting sparse IndexedSlices to a dense Tensor of unknown shape. \"\n"
     ]
    },
    {
     "name": "stdout",
     "output_type": "stream",
     "text": [
      "Train on 25000 samples, validate on 25000 samples\n",
      "Epoch 1/10\n",
      "25000/25000 [==============================] - 56s 2ms/step - loss: 0.6718 - accuracy: 0.5425 - val_loss: 0.6276 - val_accuracy: 0.6543\n",
      "Epoch 2/10\n",
      "25000/25000 [==============================] - 41s 2ms/step - loss: 0.5967 - accuracy: 0.7342 - val_loss: 0.5971 - val_accuracy: 0.7211\n",
      "Epoch 3/10\n",
      "25000/25000 [==============================] - 40s 2ms/step - loss: 0.5605 - accuracy: 0.7888 - val_loss: 0.5658 - val_accuracy: 0.7946\n",
      "Epoch 4/10\n",
      "25000/25000 [==============================] - 44s 2ms/step - loss: 0.5377 - accuracy: 0.8089 - val_loss: 0.5595 - val_accuracy: 0.7972\n",
      "Epoch 5/10\n",
      "25000/25000 [==============================] - 44s 2ms/step - loss: 0.5206 - accuracy: 0.8184 - val_loss: 0.5430 - val_accuracy: 0.7989\n",
      "Epoch 6/10\n",
      "25000/25000 [==============================] - 43s 2ms/step - loss: 0.5059 - accuracy: 0.8263 - val_loss: 0.5306 - val_accuracy: 0.8012\n",
      "Epoch 7/10\n",
      "25000/25000 [==============================] - 44s 2ms/step - loss: 0.4931 - accuracy: 0.8291 - val_loss: 0.5240 - val_accuracy: 0.8007\n",
      "Epoch 8/10\n",
      "25000/25000 [==============================] - 43s 2ms/step - loss: 0.4809 - accuracy: 0.8335 - val_loss: 0.5187 - val_accuracy: 0.8008\n",
      "Epoch 9/10\n",
      "25000/25000 [==============================] - 41s 2ms/step - loss: 0.4696 - accuracy: 0.8364 - val_loss: 0.5039 - val_accuracy: 0.8008\n",
      "Epoch 10/10\n",
      "25000/25000 [==============================] - 39s 2ms/step - loss: 0.4584 - accuracy: 0.8398 - val_loss: 0.4966 - val_accuracy: 0.8006\n"
     ]
    },
    {
     "data": {
      "text/plain": [
       "<keras.callbacks.callbacks.History at 0x2709db3f688>"
      ]
     },
     "execution_count": 18,
     "metadata": {},
     "output_type": "execute_result"
    }
   ],
   "source": [
    "model_rnn.fit(x_train, y_train,\n",
    "          batch_size=batch_size,\n",
    "          epochs=10,\n",
    "          validation_data=(x_test, y_test))"
   ]
  },
  {
   "cell_type": "code",
   "execution_count": 19,
   "metadata": {},
   "outputs": [
    {
     "name": "stdout",
     "output_type": "stream",
     "text": [
      "Train on 25000 samples, validate on 25000 samples\n",
      "Epoch 1/10\n",
      "25000/25000 [==============================] - 41s 2ms/step - loss: 0.4484 - accuracy: 0.8431 - val_loss: 0.4879 - val_accuracy: 0.8017\n",
      "Epoch 2/10\n",
      "25000/25000 [==============================] - 22s 885us/step - loss: 0.4384 - accuracy: 0.8447 - val_loss: 0.4796 - val_accuracy: 0.8061\n",
      "Epoch 3/10\n",
      "25000/25000 [==============================] - 12s 472us/step - loss: 0.4272 - accuracy: 0.8480 - val_loss: 0.4703 - val_accuracy: 0.8071\n",
      "Epoch 4/10\n",
      "25000/25000 [==============================] - 13s 515us/step - loss: 0.4172 - accuracy: 0.8513 - val_loss: 0.4676 - val_accuracy: 0.8094\n",
      "Epoch 5/10\n",
      "25000/25000 [==============================] - 12s 472us/step - loss: 0.4085 - accuracy: 0.8535 - val_loss: 0.4590 - val_accuracy: 0.8118\n",
      "Epoch 6/10\n",
      "25000/25000 [==============================] - 12s 483us/step - loss: 0.4003 - accuracy: 0.8558 - val_loss: 0.4546 - val_accuracy: 0.8114\n",
      "Epoch 7/10\n",
      "25000/25000 [==============================] - 13s 519us/step - loss: 0.3919 - accuracy: 0.8564 - val_loss: 0.4476 - val_accuracy: 0.8132\n",
      "Epoch 8/10\n",
      "25000/25000 [==============================] - 12s 469us/step - loss: 0.3845 - accuracy: 0.8589 - val_loss: 0.4396 - val_accuracy: 0.8129\n",
      "Epoch 9/10\n",
      "25000/25000 [==============================] - 12s 472us/step - loss: 0.3778 - accuracy: 0.8621 - val_loss: 0.4336 - val_accuracy: 0.8152\n",
      "Epoch 10/10\n",
      "25000/25000 [==============================] - 12s 471us/step - loss: 0.3713 - accuracy: 0.8636 - val_loss: 0.4350 - val_accuracy: 0.8151\n"
     ]
    },
    {
     "data": {
      "text/plain": [
       "<keras.callbacks.callbacks.History at 0x2708af2f048>"
      ]
     },
     "execution_count": 19,
     "metadata": {},
     "output_type": "execute_result"
    }
   ],
   "source": [
    "# Out of curiosity, run for 10 more epochs\n",
    "model_rnn.fit(x_train, y_train,\n",
    "          batch_size=batch_size,\n",
    "          epochs=10,\n",
    "          validation_data=(x_test, y_test))"
   ]
  },
  {
   "cell_type": "markdown",
   "metadata": {},
   "source": [
    "---\n",
    "### Machine Learning Foundation (C) 2020 IBM Corporation"
   ]
  }
 ],
 "metadata": {
  "kernelspec": {
   "display_name": "Python 3 (ipykernel)",
   "language": "python",
   "name": "python3"
  },
  "language_info": {
   "codemirror_mode": {
    "name": "ipython",
    "version": 3
   },
   "file_extension": ".py",
   "mimetype": "text/x-python",
   "name": "python",
   "nbconvert_exporter": "python",
   "pygments_lexer": "ipython3",
   "version": "3.7.13"
  }
 },
 "nbformat": 4,
 "nbformat_minor": 4
}
