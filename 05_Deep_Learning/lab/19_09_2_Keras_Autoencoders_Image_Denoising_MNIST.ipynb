{
 "cells": [
  {
   "cell_type": "markdown",
   "id": "e955e8bd-b1b1-4499-858e-7859fed5adf2",
   "metadata": {},
   "source": [
    "# Autoencoders: Image Denoising (MNIST)"
   ]
  },
  {
   "cell_type": "markdown",
   "id": "a8400350-17b8-46ac-9682-10c9ad9ed7ff",
   "metadata": {},
   "source": [
    "We are going to work with the MNIST dataset: handwritten numbers from 0-9 in images with 28x28 pixels.\n",
    "\n",
    "In this notebook, two autoencoders are built:\n",
    "\n",
    "1. An **autoencoder that re-creates the input image in the output**. By taking only the encoder part we could apply **dimensionality reduction** with a 2-neurons middle layer; then, we would transform the 28x28 images to 2D datapoints. That way, similarly to PCA (Principal Component Analysis), we could plot the datapoints and see how close they are from one another and whether/where they overlap.\n",
    "\n",
    "2. An autoencoder which showcases how **denoising** is possible:\n",
    "- We take the complete MNIST dataset\n",
    "- We apply noise to the images\n",
    "- We build and autoencoder which\n",
    "    - Takes the noisy image and expected the original image without noise\n",
    "    - We train it\n",
    "    - During inference\n",
    "        - the model takes a nooisy image\n",
    "        - it compresses it with the encoder\n",
    "        - it expands it with the decoder to be denoised!"
   ]
  },
  {
   "cell_type": "markdown",
   "id": "4b75a6b9-711f-4538-94fe-300fd0144936",
   "metadata": {},
   "source": [
    "## 1. Dimensionality Reduction"
   ]
  },
  {
   "cell_type": "code",
   "execution_count": 2,
   "id": "48b1b853-ede0-4471-a7cd-cc34296924e4",
   "metadata": {},
   "outputs": [],
   "source": [
    "import pandas as pd\n",
    "import numpy as np\n",
    "import matplotlib.pyplot as plt"
   ]
  },
  {
   "cell_type": "code",
   "execution_count": 4,
   "id": "98afa39d-163a-4d9a-8832-6e7d2f98cd3e",
   "metadata": {},
   "outputs": [],
   "source": [
    "from tensorflow.keras.datasets import mnist"
   ]
  },
  {
   "cell_type": "code",
   "execution_count": 5,
   "id": "deaae4fa-fe02-4a6a-b19e-f75904cd3df2",
   "metadata": {},
   "outputs": [],
   "source": [
    "(X_train, y_train), (X_test, y_test) = mnist.load_data()"
   ]
  },
  {
   "cell_type": "code",
   "execution_count": 6,
   "id": "8f3242ac-c22f-4b2b-946f-aae904c33d21",
   "metadata": {},
   "outputs": [
    {
     "data": {
      "text/plain": [
       "<matplotlib.image.AxesImage at 0x7fb4b2d75f10>"
      ]
     },
     "execution_count": 6,
     "metadata": {},
     "output_type": "execute_result"
    },
    {
     "data": {
      "image/png": "[encoded data removed]",
      "text/plain": [
       "<Figure size 432x288 with 1 Axes>"
      ]
     },
     "metadata": {
      "needs_background": "light"
     },
     "output_type": "display_data"
    }
   ],
   "source": [
    "plt.imshow(X_train[0])"
   ]
  },
  {
   "cell_type": "code",
   "execution_count": 7,
   "id": "9b68f7a4-a8d0-4527-bdad-025abd07be05",
   "metadata": {},
   "outputs": [],
   "source": [
    "# Scale\n",
    "X_train = X_train/255\n",
    "X_test = X_test/255"
   ]
  },
  {
   "cell_type": "code",
   "execution_count": 9,
   "id": "22f7b170-bf81-4e71-9c30-2ddf5bda6a4d",
   "metadata": {},
   "outputs": [],
   "source": [
    "from tensorflow.keras.models import Sequential\n",
    "from tensorflow.keras.layers import Dense,Flatten,Reshape\n",
    "from tensorflow.keras.optimizers import SGD"
   ]
  },
  {
   "cell_type": "markdown",
   "id": "90e23271-db82-4b35-8d41-ad88d4df69f1",
   "metadata": {},
   "source": [
    "### Model"
   ]
  },
  {
   "cell_type": "markdown",
   "id": "fd2ab9e0-d626-4a71-a5d4-39f9782f3a4e",
   "metadata": {},
   "source": [
    "There is no fixed way of defining the encoder and the decoder.\n",
    "A possible approach is to halven the number of values step by step:\n",
    "\n",
    "`28x28 = 784 -> 400 -> 200 -> 100 -> 50 -> 25`\n",
    "\n",
    "At the end, we compress to around 3% of the total values."
   ]
  },
  {
   "cell_type": "code",
   "execution_count": 14,
   "id": "322ee7ea-d23e-48bc-a489-83475b371785",
   "metadata": {},
   "outputs": [
    {
     "data": {
      "text/plain": [
       "(60000, 28, 28)"
      ]
     },
     "execution_count": 14,
     "metadata": {},
     "output_type": "execute_result"
    }
   ],
   "source": [
    "X_train.shape"
   ]
  },
  {
   "cell_type": "code",
   "execution_count": 27,
   "id": "688748f0-726c-49d5-84b5-5a00fc3c224f",
   "metadata": {},
   "outputs": [],
   "source": [
    "# Encoder: we compress by halving\n",
    "encoder = Sequential()\n",
    "# First, we flatten the image\n",
    "encoder.add(Flatten(input_shape=[28,28]))\n",
    "encoder.add(Dense(units=400,activation='relu'))\n",
    "encoder.add(Dense(units=200,activation='relu'))\n",
    "encoder.add(Dense(units=100,activation='relu'))\n",
    "encoder.add(Dense(units=50,activation='relu'))\n",
    "encoder.add(Dense(units=25,activation='relu'))"
   ]
  },
  {
   "cell_type": "code",
   "execution_count": 28,
   "id": "55163a0f-c116-4f2f-97f6-33f6b2621cab",
   "metadata": {},
   "outputs": [],
   "source": [
    "# Decoder: we expand by doubling\n",
    "decoder = Sequential()\n",
    "decoder.add(Dense(50,input_shape=[25],activation='relu'))\n",
    "decoder.add(Dense(100,activation='relu'))\n",
    "decoder.add(Dense(200,activation='relu'))\n",
    "decoder.add(Dense(400,activation='relu'))\n",
    "# Important to change it to be a sigmoid, which maps values to [0,1]\n",
    "decoder.add(Dense(784,activation='sigmoid'))\n",
    "# Important to reshape it to compare with the original images\n",
    "decoder.add(Reshape([28,28]))"
   ]
  },
  {
   "cell_type": "code",
   "execution_count": 29,
   "id": "15b17db2-c2f1-4b54-8332-ff9faf9d3795",
   "metadata": {},
   "outputs": [],
   "source": [
    "# Autoencoder\n",
    "autoencoder = Sequential([encoder,decoder])"
   ]
  },
  {
   "cell_type": "code",
   "execution_count": 30,
   "id": "fd4b8261-0336-4d07-8bb3-bd21711669f9",
   "metadata": {},
   "outputs": [],
   "source": [
    "# We use the BINARY cross-entropy loss\n",
    "# because we want to know whether the input and output images are equivalent\n",
    "autoencoder.compile(loss='binary_crossentropy',\n",
    "                   optimizer=SGD(lr=1.5),\n",
    "                   metrics=['accuracy'])"
   ]
  },
  {
   "cell_type": "code",
   "execution_count": 31,
   "id": "c57f8aa3-9ac5-47ba-9f75-bd78f3725f95",
   "metadata": {},
   "outputs": [
    {
     "name": "stdout",
     "output_type": "stream",
     "text": [
      "Train on 60000 samples, validate on 10000 samples\n",
      "Epoch 1/5\n",
      "60000/60000 [==============================] - 29s 485us/sample - loss: 0.2476 - accuracy: 0.7912 - val_loss: 0.2002 - val_accuracy: 0.7948\n",
      "Epoch 2/5\n",
      "60000/60000 [==============================] - 28s 462us/sample - loss: 0.1820 - accuracy: 0.7979 - val_loss: 0.1620 - val_accuracy: 0.8010\n",
      "Epoch 3/5\n",
      "60000/60000 [==============================] - 28s 472us/sample - loss: 0.1570 - accuracy: 0.8025 - val_loss: 0.1509 - val_accuracy: 0.8045\n",
      "Epoch 4/5\n",
      "60000/60000 [==============================] - 29s 480us/sample - loss: 0.1463 - accuracy: 0.8044 - val_loss: 0.1416 - val_accuracy: 0.8048\n",
      "Epoch 5/5\n",
      "60000/60000 [==============================] - 28s 474us/sample - loss: 0.1410 - accuracy: 0.8053 - val_loss: 0.1382 - val_accuracy: 0.8049\n"
     ]
    },
    {
     "data": {
      "text/plain": [
       "<tensorflow.python.keras.callbacks.History at 0x7fb4b18b5950>"
      ]
     },
     "execution_count": 31,
     "metadata": {},
     "output_type": "execute_result"
    }
   ],
   "source": [
    "# Train!\n",
    "autoencoder.fit(X_train,X_train,\n",
    "               epochs=5,\n",
    "               validation_data=[X_test,X_test])"
   ]
  },
  {
   "cell_type": "code",
   "execution_count": 32,
   "id": "49f5995c-c3b5-4c95-b1a2-612e90609f6c",
   "metadata": {},
   "outputs": [],
   "source": [
    "# Inference\n",
    "passed_images = autoencoder.predict(X_test[:10])"
   ]
  },
  {
   "cell_type": "code",
   "execution_count": 48,
   "id": "c067848c-8c42-42b3-b599-acb1cba0479f",
   "metadata": {},
   "outputs": [
    {
     "name": "stdout",
     "output_type": "stream",
     "text": [
      "Original image\n"
     ]
    },
    {
     "data": {
      "image/png": "[encoded data removed]",
      "text/plain": [
       "<Figure size 432x288 with 1 Axes>"
      ]
     },
     "metadata": {
      "needs_background": "light"
     },
     "output_type": "display_data"
    },
    {
     "name": "stdout",
     "output_type": "stream",
     "text": [
      "Reconstruction by Autoencoder\n"
     ]
    },
    {
     "data": {
      "image/png": "[encoded data removed]",
      "text/plain": [
       "<Figure size 432x288 with 1 Axes>"
      ]
     },
     "metadata": {
      "needs_background": "light"
     },
     "output_type": "display_data"
    }
   ],
   "source": [
    "# Plot/Display\n",
    "# We get very impressive results: we managed to create a NN\n",
    "# that compresses an MNIST image to 3% of its size\n",
    "# and that is able to reproduce a very similar image from the compressed one\n",
    "n = 0\n",
    "print(\"Original image\")\n",
    "plt.imshow(X_test[n])\n",
    "plt.show()\n",
    "print(\"Reconstruction by Autoencoder\")\n",
    "plt.imshow(passed_images[n])\n",
    "plt.show()"
   ]
  },
  {
   "cell_type": "markdown",
   "id": "2c598cde-79c4-4f50-9b50-cde0521894eb",
   "metadata": {},
   "source": [
    "## 2. Denoising"
   ]
  },
  {
   "cell_type": "markdown",
   "id": "9d951221-cf3b-4fbe-9200-e39f7b46b593",
   "metadata": {},
   "source": [
    "We are going to add noise to our images and then remove it.\n",
    "There are multiple ways of adding noise to an image, but we're going to use Tensorflow for that."
   ]
  },
  {
   "cell_type": "code",
   "execution_count": 49,
   "id": "f64be4a9-cf4a-4a9e-b821-a2adb6fb5de2",
   "metadata": {},
   "outputs": [],
   "source": [
    "from tensorflow.keras.layers import GaussianNoise"
   ]
  },
  {
   "cell_type": "code",
   "execution_count": 50,
   "id": "b62ee4f8-1cad-491a-887e-22ca92a57457",
   "metadata": {},
   "outputs": [],
   "source": [
    "sample = GaussianNoise(stddev=0.2)"
   ]
  },
  {
   "cell_type": "code",
   "execution_count": 53,
   "id": "6e98683e-ff84-4351-bad6-29d440ff307f",
   "metadata": {},
   "outputs": [],
   "source": [
    "# We add noise\n",
    "noisey = sample(X_test[:10],training=True)"
   ]
  },
  {
   "cell_type": "code",
   "execution_count": 54,
   "id": "d5d2ae11-4ce5-49f2-bc1a-5d24e56a77a8",
   "metadata": {},
   "outputs": [
    {
     "name": "stdout",
     "output_type": "stream",
     "text": [
      "Original image\n"
     ]
    },
    {
     "data": {
      "image/png": "[encoded data removed]",
      "text/plain": [
       "<Figure size 432x288 with 1 Axes>"
      ]
     },
     "metadata": {
      "needs_background": "light"
     },
     "output_type": "display_data"
    },
    {
     "name": "stdout",
     "output_type": "stream",
     "text": [
      "Noisey\n"
     ]
    },
    {
     "data": {
      "image/png": "[encoded data removed]",
      "text/plain": [
       "<Figure size 432x288 with 1 Axes>"
      ]
     },
     "metadata": {
      "needs_background": "light"
     },
     "output_type": "display_data"
    }
   ],
   "source": [
    "# Plot/Display\n",
    "n = 0\n",
    "print(\"Original image\")\n",
    "plt.imshow(X_test[n])\n",
    "plt.show()\n",
    "print(\"Noisey\")\n",
    "plt.imshow(noisey[n])\n",
    "plt.show()"
   ]
  },
  {
   "cell_type": "markdown",
   "id": "54e2da1f-f340-48fc-b94b-18e5280640b7",
   "metadata": {},
   "source": [
    "### Model\n",
    "\n",
    "We use the same model as before; however, we add the GaussianNoise() layer at the beginning of the encoder"
   ]
  },
  {
   "cell_type": "code",
   "execution_count": 60,
   "id": "0493aafd-5ce4-4dda-81da-75e34bf27d04",
   "metadata": {},
   "outputs": [],
   "source": [
    "# Define a seed to control the random numbers\n",
    "import tensorflow as tf\n",
    "tf.random.set_seed(101)\n",
    "np.random.seed(101)"
   ]
  },
  {
   "cell_type": "code",
   "execution_count": 61,
   "id": "a3dde057-18b5-47fb-9894-35dd481a361f",
   "metadata": {},
   "outputs": [],
   "source": [
    "# Encoder: we compress by halving\n",
    "encoder = Sequential()\n",
    "# First, we flatten the image\n",
    "encoder.add(Flatten(input_shape=[28,28]))\n",
    "# Then, we addd noise\n",
    "encoder.add(GaussianNoise(0.2))\n",
    "# After that, the compressing starts\n",
    "encoder.add(Dense(units=400,activation='relu'))\n",
    "encoder.add(Dense(units=200,activation='relu'))\n",
    "encoder.add(Dense(units=100,activation='relu'))\n",
    "encoder.add(Dense(units=50,activation='relu'))\n",
    "encoder.add(Dense(units=25,activation='relu'))"
   ]
  },
  {
   "cell_type": "code",
   "execution_count": 62,
   "id": "dd06f93e-f29c-4c39-b7dc-851f522702d5",
   "metadata": {},
   "outputs": [],
   "source": [
    "# Decoder: we expand by doubling\n",
    "decoder = Sequential()\n",
    "decoder.add(Dense(50,input_shape=[25],activation='relu'))\n",
    "decoder.add(Dense(100,activation='relu'))\n",
    "decoder.add(Dense(200,activation='relu'))\n",
    "decoder.add(Dense(400,activation='relu'))\n",
    "# Important to change it to be a sigmoid, which maps values to [0,1]\n",
    "decoder.add(Dense(784,activation='sigmoid'))\n",
    "# Important to reshape it to compare with the original images\n",
    "decoder.add(Reshape([28,28]))"
   ]
  },
  {
   "cell_type": "code",
   "execution_count": 63,
   "id": "9be34bb8-6cbb-4389-9701-1d486ac186d3",
   "metadata": {},
   "outputs": [],
   "source": [
    "noise_remover = Sequential([encoder,decoder])"
   ]
  },
  {
   "cell_type": "code",
   "execution_count": 64,
   "id": "a58a5354-8e3a-447e-90e9-e2cf74419aa5",
   "metadata": {},
   "outputs": [],
   "source": [
    "noise_remover.compile(loss='binary_crossentropy',\n",
    "                     optimizer='adam',\n",
    "                     metrics=['accuracy'])"
   ]
  },
  {
   "cell_type": "code",
   "execution_count": 65,
   "id": "beceda90-b2d7-4237-a6b1-08246f52b799",
   "metadata": {},
   "outputs": [
    {
     "name": "stdout",
     "output_type": "stream",
     "text": [
      "Train on 60000 samples\n",
      "Epoch 1/8\n",
      "60000/60000 [==============================] - 39s 652us/sample - loss: 0.1720 - accuracy: 0.8009\n",
      "Epoch 2/8\n",
      "60000/60000 [==============================] - 39s 643us/sample - loss: 0.1303 - accuracy: 0.8078\n",
      "Epoch 3/8\n",
      "60000/60000 [==============================] - 38s 642us/sample - loss: 0.1217 - accuracy: 0.8094\n",
      "Epoch 4/8\n",
      "60000/60000 [==============================] - 38s 634us/sample - loss: 0.1157 - accuracy: 0.8104\n",
      "Epoch 5/8\n",
      "60000/60000 [==============================] - 40s 675us/sample - loss: 0.1114 - accuracy: 0.8111\n",
      "Epoch 6/8\n",
      "60000/60000 [==============================] - 38s 626us/sample - loss: 0.1084 - accuracy: 0.8116\n",
      "Epoch 7/8\n",
      "60000/60000 [==============================] - 37s 616us/sample - loss: 0.1063 - accuracy: 0.8119\n",
      "Epoch 8/8\n",
      "60000/60000 [==============================] - 38s 628us/sample - loss: 0.1047 - accuracy: 0.8121\n"
     ]
    },
    {
     "data": {
      "text/plain": [
       "<tensorflow.python.keras.callbacks.History at 0x7fb4a07e9090>"
      ]
     },
     "execution_count": 65,
     "metadata": {},
     "output_type": "execute_result"
    }
   ],
   "source": [
    "noise_remover.fit(X_train,X_train,epochs=8)"
   ]
  },
  {
   "cell_type": "code",
   "execution_count": 70,
   "id": "3e4b6812-482a-4c4e-8138-1c414d7bbe38",
   "metadata": {},
   "outputs": [],
   "source": [
    "# Add noise\n",
    "ten_noisey_images = sample(X_test[:10],training=True)"
   ]
  },
  {
   "cell_type": "code",
   "execution_count": 71,
   "id": "e8bfdd4f-fcfc-424a-9be1-fa98db85ee22",
   "metadata": {},
   "outputs": [],
   "source": [
    "# Inference\n",
    "denoised = noise_remover(ten_noisey_images)"
   ]
  },
  {
   "cell_type": "code",
   "execution_count": 76,
   "id": "8a4ae8c6-064e-4d01-9138-2b22dcc2574d",
   "metadata": {},
   "outputs": [
    {
     "name": "stdout",
     "output_type": "stream",
     "text": [
      "Original\n"
     ]
    },
    {
     "data": {
      "image/png": "[encoded data removed]",
      "text/plain": [
       "<Figure size 432x288 with 1 Axes>"
      ]
     },
     "metadata": {
      "needs_background": "light"
     },
     "output_type": "display_data"
    },
    {
     "name": "stdout",
     "output_type": "stream",
     "text": [
      "Noise added (once)\n"
     ]
    },
    {
     "data": {
      "image/png": "[encoded data removed]",
      "text/plain": [
       "<Figure size 432x288 with 1 Axes>"
      ]
     },
     "metadata": {
      "needs_background": "light"
     },
     "output_type": "display_data"
    },
    {
     "name": "stdout",
     "output_type": "stream",
     "text": [
      "After noise removal (2x noise added!)\n"
     ]
    },
    {
     "data": {
      "image/png": "[encoded data removed]",
      "text/plain": [
       "<Figure size 432x288 with 1 Axes>"
      ]
     },
     "metadata": {
      "needs_background": "light"
     },
     "output_type": "display_data"
    }
   ],
   "source": [
    "# Plot\n",
    "n = 0\n",
    "print(\"Original\")\n",
    "plt.imshow(X_test[n])\n",
    "plt.show()\n",
    "print(\"Noise added (once)\")\n",
    "plt.imshow(ten_noisey_images[n])\n",
    "plt.show()\n",
    "print(\"After noise removal (2x noise added!)\")\n",
    "# IMPORTANT note: we are adding noise twice!!\n",
    "plt.imshow(denoised[n])\n",
    "plt.show()"
   ]
  },
  {
   "cell_type": "code",
   "execution_count": null,
   "id": "0a1394ce-d3ba-4107-ba34-4bafddd86526",
   "metadata": {},
   "outputs": [],
   "source": []
  }
 ],
 "metadata": {
  "kernelspec": {
   "display_name": "Python 3 (ipykernel)",
   "language": "python",
   "name": "python3"
  },
  "language_info": {
   "codemirror_mode": {
    "name": "ipython",
    "version": 3
   },
   "file_extension": ".py",
   "mimetype": "text/x-python",
   "name": "python",
   "nbconvert_exporter": "python",
   "pygments_lexer": "ipython3",
   "version": "3.7.13"
  }
 },
 "nbformat": 4,
 "nbformat_minor": 5
}
