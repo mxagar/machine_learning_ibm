{
 "cells": [
  {
   "cell_type": "markdown",
   "metadata": {},
   "source": [
    "<p style=\"text-align:center\">\n",
    "    <a href=\"https://skills.network/?utm_medium=Exinfluencer&utm_source=Exinfluencer&utm_content=000026UJ&utm_term=10006555&utm_id=NA-SkillsNetwork-Channel-SkillsNetworkCoursesIBMML321ENSkillsNetwork32585014-2022-01-01\" target=\"_blank\">\n",
    "    <img src=\"https://cf-courses-data.s3.us.cloud-object-storage.appdomain.cloud/assets/logos/SN_web_lightmode.png\" width=\"200\" alt=\"Skills Network Logo\"  />\n",
    "    </a>\n",
    "</p>\n"
   ]
  },
  {
   "cell_type": "markdown",
   "metadata": {},
   "source": [
    "# **Classification-based Rating Mode Prediction using Embedding Features**\n"
   ]
  },
  {
   "cell_type": "markdown",
   "metadata": {},
   "source": [
    "Estimated time needed: **60** minutes\n"
   ]
  },
  {
   "cell_type": "markdown",
   "metadata": {},
   "source": [
    "In this lab, you have built regression models to predict numerical course ratings using the embedding feature vectors extracted from neural networks. We can also consider the prediction problem as a classification problem as rating only has two categorical values (`Aduit` vs. `Completion`).\n"
   ]
  },
  {
   "cell_type": "markdown",
   "metadata": {},
   "source": [
    "![](https://cf-courses-data.s3.us.cloud-object-storage.appdomain.cloud/IBM-ML321EN-SkillsNetwork/labs/module\\_4/images/rating_classification.png)\n"
   ]
  },
  {
   "cell_type": "markdown",
   "metadata": {},
   "source": [
    "The workflow is very similar to our previous lab. We first extract two embedding matrices out of the neural network, and aggregate them to be a single interaction feature vector as input data `X`.\n",
    "\n",
    "This time, with the interaction label `Y` as categorical rating mode, we can build classification models to approximate the mapping from `X` to `Y`, as shown in the above flowchart.\n"
   ]
  },
  {
   "cell_type": "markdown",
   "metadata": {},
   "source": [
    "## Objectives\n"
   ]
  },
  {
   "cell_type": "markdown",
   "metadata": {},
   "source": [
    "After completing this lab you will be able to:\n"
   ]
  },
  {
   "cell_type": "markdown",
   "metadata": {},
   "source": [
    "*   Build classification models to predict rating modes using the combined embedding vectors\n"
   ]
  },
  {
   "cell_type": "markdown",
   "metadata": {},
   "source": [
    "***\n"
   ]
  },
  {
   "cell_type": "markdown",
   "metadata": {},
   "source": [
    "## Prepare and setup lab environment\n"
   ]
  },
  {
   "cell_type": "markdown",
   "metadata": {},
   "source": [
    "First install and import required libraries:\n"
   ]
  },
  {
   "cell_type": "code",
   "execution_count": null,
   "metadata": {},
   "outputs": [],
   "source": [
    "!pip install scikit-learn==1.0.2"
   ]
  },
  {
   "cell_type": "code",
   "execution_count": 1,
   "metadata": {},
   "outputs": [],
   "source": [
    "# also set a random state\n",
    "rs = 123"
   ]
  },
  {
   "cell_type": "code",
   "execution_count": 2,
   "metadata": {},
   "outputs": [],
   "source": [
    "import pandas as pd\n",
    "from sklearn.model_selection import train_test_split\n",
    "from sklearn.preprocessing import LabelEncoder\n",
    "from sklearn.metrics import accuracy_score, precision_recall_fscore_support\n",
    "from sklearn.linear_model import LogisticRegression\n",
    "from sklearn.ensemble import RandomForestClassifier"
   ]
  },
  {
   "cell_type": "markdown",
   "metadata": {},
   "source": [
    "### Load datasets\n"
   ]
  },
  {
   "cell_type": "code",
   "execution_count": 3,
   "metadata": {},
   "outputs": [],
   "source": [
    "rating_url = \"https://cf-courses-data.s3.us.cloud-object-storage.appdomain.cloud/IBM-ML321EN-SkillsNetwork/labs/datasets/ratings.csv\"\n",
    "user_emb_url = \"https://cf-courses-data.s3.us.cloud-object-storage.appdomain.cloud/IBM-ML321EN-SkillsNetwork/labs/datasets/user_embeddings.csv\"\n",
    "item_emb_url = \"https://cf-courses-data.s3.us.cloud-object-storage.appdomain.cloud/IBM-ML321EN-SkillsNetwork/labs/datasets/course_embeddings.csv\""
   ]
  },
  {
   "cell_type": "markdown",
   "metadata": {},
   "source": [
    "The first dataset is the rating dataset contains user-item interaction matrix\n"
   ]
  },
  {
   "cell_type": "code",
   "execution_count": 4,
   "metadata": {},
   "outputs": [],
   "source": [
    "#rating_df = pd.read_csv(rating_url)\n",
    "rating_df = pd.read_csv('data/ratings.csv')"
   ]
  },
  {
   "cell_type": "code",
   "execution_count": 5,
   "metadata": {},
   "outputs": [
    {
     "data": {
      "text/html": [
       "<div>\n",
       "<style scoped>\n",
       "    .dataframe tbody tr th:only-of-type {\n",
       "        vertical-align: middle;\n",
       "    }\n",
       "\n",
       "    .dataframe tbody tr th {\n",
       "        vertical-align: top;\n",
       "    }\n",
       "\n",
       "    .dataframe thead th {\n",
       "        text-align: right;\n",
       "    }\n",
       "</style>\n",
       "<table border=\"1\" class=\"dataframe\">\n",
       "  <thead>\n",
       "    <tr style=\"text-align: right;\">\n",
       "      <th></th>\n",
       "      <th>user</th>\n",
       "      <th>item</th>\n",
       "      <th>rating</th>\n",
       "    </tr>\n",
       "  </thead>\n",
       "  <tbody>\n",
       "    <tr>\n",
       "      <th>0</th>\n",
       "      <td>1889878</td>\n",
       "      <td>CC0101EN</td>\n",
       "      <td>3.0</td>\n",
       "    </tr>\n",
       "    <tr>\n",
       "      <th>1</th>\n",
       "      <td>1342067</td>\n",
       "      <td>CL0101EN</td>\n",
       "      <td>3.0</td>\n",
       "    </tr>\n",
       "    <tr>\n",
       "      <th>2</th>\n",
       "      <td>1990814</td>\n",
       "      <td>ML0120ENv3</td>\n",
       "      <td>3.0</td>\n",
       "    </tr>\n",
       "    <tr>\n",
       "      <th>3</th>\n",
       "      <td>380098</td>\n",
       "      <td>BD0211EN</td>\n",
       "      <td>3.0</td>\n",
       "    </tr>\n",
       "    <tr>\n",
       "      <th>4</th>\n",
       "      <td>779563</td>\n",
       "      <td>DS0101EN</td>\n",
       "      <td>3.0</td>\n",
       "    </tr>\n",
       "  </tbody>\n",
       "</table>\n",
       "</div>"
      ],
      "text/plain": [
       "      user        item  rating\n",
       "0  1889878    CC0101EN     3.0\n",
       "1  1342067    CL0101EN     3.0\n",
       "2  1990814  ML0120ENv3     3.0\n",
       "3   380098    BD0211EN     3.0\n",
       "4   779563    DS0101EN     3.0"
      ]
     },
     "execution_count": 5,
     "metadata": {},
     "output_type": "execute_result"
    }
   ],
   "source": [
    "rating_df.head()"
   ]
  },
  {
   "cell_type": "markdown",
   "metadata": {},
   "source": [
    "As you can see from the above data, the user and item are just ids, let's substitute them with their embedding vectors\n"
   ]
  },
  {
   "cell_type": "code",
   "execution_count": 6,
   "metadata": {},
   "outputs": [],
   "source": [
    "# Load user embeddings\n",
    "#user_emb = pd.read_csv(user_emb_url)\n",
    "#user_emb.to_csv('data/user_embeddings.csv', sep=',', header=True, index=False)\n",
    "#user_emb = pd.read_csv('data/user_embeddings.csv')\n",
    "user_emb = pd.read_csv('data/user_embeddings_computed.csv')\n",
    "# Load item embeddings\n",
    "#item_emb = pd.read_csv(item_emb_url)\n",
    "#item_emb.to_csv('data/course_embeddings.csv', sep=',', header=True, index=False)\n",
    "#item_emb = pd.read_csv('data/course_embeddings.csv')\n",
    "item_emb = pd.read_csv('data/course_embeddings_computed.csv')"
   ]
  },
  {
   "cell_type": "code",
   "execution_count": 7,
   "metadata": {},
   "outputs": [
    {
     "data": {
      "text/html": [
       "<div>\n",
       "<style scoped>\n",
       "    .dataframe tbody tr th:only-of-type {\n",
       "        vertical-align: middle;\n",
       "    }\n",
       "\n",
       "    .dataframe tbody tr th {\n",
       "        vertical-align: top;\n",
       "    }\n",
       "\n",
       "    .dataframe thead th {\n",
       "        text-align: right;\n",
       "    }\n",
       "</style>\n",
       "<table border=\"1\" class=\"dataframe\">\n",
       "  <thead>\n",
       "    <tr style=\"text-align: right;\">\n",
       "      <th></th>\n",
       "      <th>user</th>\n",
       "      <th>UFeature0</th>\n",
       "      <th>UFeature1</th>\n",
       "      <th>UFeature2</th>\n",
       "      <th>UFeature3</th>\n",
       "      <th>UFeature4</th>\n",
       "      <th>UFeature5</th>\n",
       "      <th>UFeature6</th>\n",
       "      <th>UFeature7</th>\n",
       "      <th>UFeature8</th>\n",
       "      <th>UFeature9</th>\n",
       "      <th>UFeature10</th>\n",
       "      <th>UFeature11</th>\n",
       "      <th>UFeature12</th>\n",
       "      <th>UFeature13</th>\n",
       "      <th>UFeature14</th>\n",
       "      <th>UFeature15</th>\n",
       "    </tr>\n",
       "  </thead>\n",
       "  <tbody>\n",
       "    <tr>\n",
       "      <th>0</th>\n",
       "      <td>1889878</td>\n",
       "      <td>0.092619</td>\n",
       "      <td>-0.231117</td>\n",
       "      <td>0.207782</td>\n",
       "      <td>0.075256</td>\n",
       "      <td>-0.175193</td>\n",
       "      <td>0.505722</td>\n",
       "      <td>-0.011609</td>\n",
       "      <td>-0.325078</td>\n",
       "      <td>0.152641</td>\n",
       "      <td>-0.265612</td>\n",
       "      <td>0.094592</td>\n",
       "      <td>-0.262018</td>\n",
       "      <td>0.838327</td>\n",
       "      <td>-0.194199</td>\n",
       "      <td>-0.153928</td>\n",
       "      <td>0.389778</td>\n",
       "    </tr>\n",
       "    <tr>\n",
       "      <th>1</th>\n",
       "      <td>1342067</td>\n",
       "      <td>0.190924</td>\n",
       "      <td>0.165438</td>\n",
       "      <td>0.108368</td>\n",
       "      <td>0.069375</td>\n",
       "      <td>0.041172</td>\n",
       "      <td>-0.057720</td>\n",
       "      <td>0.116700</td>\n",
       "      <td>0.497182</td>\n",
       "      <td>-0.051477</td>\n",
       "      <td>-0.164022</td>\n",
       "      <td>0.053494</td>\n",
       "      <td>0.204487</td>\n",
       "      <td>-0.138072</td>\n",
       "      <td>-0.084156</td>\n",
       "      <td>0.168388</td>\n",
       "      <td>0.032770</td>\n",
       "    </tr>\n",
       "    <tr>\n",
       "      <th>2</th>\n",
       "      <td>1990814</td>\n",
       "      <td>-0.015588</td>\n",
       "      <td>0.252763</td>\n",
       "      <td>0.063455</td>\n",
       "      <td>-0.099508</td>\n",
       "      <td>-0.021063</td>\n",
       "      <td>-0.315386</td>\n",
       "      <td>-0.361852</td>\n",
       "      <td>-0.055602</td>\n",
       "      <td>-0.665861</td>\n",
       "      <td>-0.089062</td>\n",
       "      <td>0.541673</td>\n",
       "      <td>0.071023</td>\n",
       "      <td>0.132675</td>\n",
       "      <td>0.178680</td>\n",
       "      <td>-0.004070</td>\n",
       "      <td>-0.061975</td>\n",
       "    </tr>\n",
       "    <tr>\n",
       "      <th>3</th>\n",
       "      <td>380098</td>\n",
       "      <td>-0.280420</td>\n",
       "      <td>-0.133849</td>\n",
       "      <td>-0.227513</td>\n",
       "      <td>0.006720</td>\n",
       "      <td>0.575470</td>\n",
       "      <td>0.153790</td>\n",
       "      <td>-0.395521</td>\n",
       "      <td>0.158342</td>\n",
       "      <td>-0.263698</td>\n",
       "      <td>0.137179</td>\n",
       "      <td>-0.291739</td>\n",
       "      <td>0.187631</td>\n",
       "      <td>-0.280210</td>\n",
       "      <td>0.259173</td>\n",
       "      <td>-0.023921</td>\n",
       "      <td>0.168686</td>\n",
       "    </tr>\n",
       "    <tr>\n",
       "      <th>4</th>\n",
       "      <td>779563</td>\n",
       "      <td>-0.015460</td>\n",
       "      <td>-0.271762</td>\n",
       "      <td>-0.472752</td>\n",
       "      <td>0.053249</td>\n",
       "      <td>-0.024169</td>\n",
       "      <td>-0.300003</td>\n",
       "      <td>0.208167</td>\n",
       "      <td>-0.101409</td>\n",
       "      <td>-0.087301</td>\n",
       "      <td>-0.062453</td>\n",
       "      <td>0.039226</td>\n",
       "      <td>-0.096039</td>\n",
       "      <td>-0.048271</td>\n",
       "      <td>-0.187053</td>\n",
       "      <td>0.294076</td>\n",
       "      <td>0.226417</td>\n",
       "    </tr>\n",
       "  </tbody>\n",
       "</table>\n",
       "</div>"
      ],
      "text/plain": [
       "      user  UFeature0  UFeature1  UFeature2  UFeature3  UFeature4  UFeature5  \\\n",
       "0  1889878   0.092619  -0.231117   0.207782   0.075256  -0.175193   0.505722   \n",
       "1  1342067   0.190924   0.165438   0.108368   0.069375   0.041172  -0.057720   \n",
       "2  1990814  -0.015588   0.252763   0.063455  -0.099508  -0.021063  -0.315386   \n",
       "3   380098  -0.280420  -0.133849  -0.227513   0.006720   0.575470   0.153790   \n",
       "4   779563  -0.015460  -0.271762  -0.472752   0.053249  -0.024169  -0.300003   \n",
       "\n",
       "   UFeature6  UFeature7  UFeature8  UFeature9  UFeature10  UFeature11  \\\n",
       "0  -0.011609  -0.325078   0.152641  -0.265612    0.094592   -0.262018   \n",
       "1   0.116700   0.497182  -0.051477  -0.164022    0.053494    0.204487   \n",
       "2  -0.361852  -0.055602  -0.665861  -0.089062    0.541673    0.071023   \n",
       "3  -0.395521   0.158342  -0.263698   0.137179   -0.291739    0.187631   \n",
       "4   0.208167  -0.101409  -0.087301  -0.062453    0.039226   -0.096039   \n",
       "\n",
       "   UFeature12  UFeature13  UFeature14  UFeature15  \n",
       "0    0.838327   -0.194199   -0.153928    0.389778  \n",
       "1   -0.138072   -0.084156    0.168388    0.032770  \n",
       "2    0.132675    0.178680   -0.004070   -0.061975  \n",
       "3   -0.280210    0.259173   -0.023921    0.168686  \n",
       "4   -0.048271   -0.187053    0.294076    0.226417  "
      ]
     },
     "execution_count": 7,
     "metadata": {},
     "output_type": "execute_result"
    }
   ],
   "source": [
    "user_emb.head()"
   ]
  },
  {
   "cell_type": "code",
   "execution_count": 8,
   "metadata": {},
   "outputs": [
    {
     "data": {
      "text/html": [
       "<div>\n",
       "<style scoped>\n",
       "    .dataframe tbody tr th:only-of-type {\n",
       "        vertical-align: middle;\n",
       "    }\n",
       "\n",
       "    .dataframe tbody tr th {\n",
       "        vertical-align: top;\n",
       "    }\n",
       "\n",
       "    .dataframe thead th {\n",
       "        text-align: right;\n",
       "    }\n",
       "</style>\n",
       "<table border=\"1\" class=\"dataframe\">\n",
       "  <thead>\n",
       "    <tr style=\"text-align: right;\">\n",
       "      <th></th>\n",
       "      <th>item</th>\n",
       "      <th>CFeature0</th>\n",
       "      <th>CFeature1</th>\n",
       "      <th>CFeature2</th>\n",
       "      <th>CFeature3</th>\n",
       "      <th>CFeature4</th>\n",
       "      <th>CFeature5</th>\n",
       "      <th>CFeature6</th>\n",
       "      <th>CFeature7</th>\n",
       "      <th>CFeature8</th>\n",
       "      <th>CFeature9</th>\n",
       "      <th>CFeature10</th>\n",
       "      <th>CFeature11</th>\n",
       "      <th>CFeature12</th>\n",
       "      <th>CFeature13</th>\n",
       "      <th>CFeature14</th>\n",
       "      <th>CFeature15</th>\n",
       "    </tr>\n",
       "  </thead>\n",
       "  <tbody>\n",
       "    <tr>\n",
       "      <th>0</th>\n",
       "      <td>CC0101EN</td>\n",
       "      <td>-0.048532</td>\n",
       "      <td>0.030396</td>\n",
       "      <td>0.003829</td>\n",
       "      <td>0.004685</td>\n",
       "      <td>-0.001384</td>\n",
       "      <td>0.051492</td>\n",
       "      <td>0.014301</td>\n",
       "      <td>0.027785</td>\n",
       "      <td>0.090873</td>\n",
       "      <td>-0.047259</td>\n",
       "      <td>-0.008860</td>\n",
       "      <td>0.037038</td>\n",
       "      <td>0.014460</td>\n",
       "      <td>0.045229</td>\n",
       "      <td>-0.102700</td>\n",
       "      <td>0.088245</td>\n",
       "    </tr>\n",
       "    <tr>\n",
       "      <th>1</th>\n",
       "      <td>CL0101EN</td>\n",
       "      <td>0.064290</td>\n",
       "      <td>0.044361</td>\n",
       "      <td>0.047307</td>\n",
       "      <td>-0.010566</td>\n",
       "      <td>0.012116</td>\n",
       "      <td>0.026928</td>\n",
       "      <td>0.016909</td>\n",
       "      <td>0.095854</td>\n",
       "      <td>0.018161</td>\n",
       "      <td>0.012876</td>\n",
       "      <td>-0.003892</td>\n",
       "      <td>0.065286</td>\n",
       "      <td>0.062600</td>\n",
       "      <td>0.117804</td>\n",
       "      <td>0.019665</td>\n",
       "      <td>-0.023349</td>\n",
       "    </tr>\n",
       "    <tr>\n",
       "      <th>2</th>\n",
       "      <td>ML0120ENv3</td>\n",
       "      <td>0.034007</td>\n",
       "      <td>-0.002219</td>\n",
       "      <td>-0.040372</td>\n",
       "      <td>0.056647</td>\n",
       "      <td>0.110738</td>\n",
       "      <td>0.069199</td>\n",
       "      <td>0.104628</td>\n",
       "      <td>-0.027713</td>\n",
       "      <td>0.052400</td>\n",
       "      <td>-0.028607</td>\n",
       "      <td>0.079523</td>\n",
       "      <td>-0.008803</td>\n",
       "      <td>-0.070613</td>\n",
       "      <td>0.101053</td>\n",
       "      <td>-0.023650</td>\n",
       "      <td>-0.065341</td>\n",
       "    </tr>\n",
       "    <tr>\n",
       "      <th>3</th>\n",
       "      <td>BD0211EN</td>\n",
       "      <td>0.009033</td>\n",
       "      <td>-0.005793</td>\n",
       "      <td>0.017004</td>\n",
       "      <td>0.080865</td>\n",
       "      <td>-0.070522</td>\n",
       "      <td>0.057408</td>\n",
       "      <td>0.025328</td>\n",
       "      <td>-0.040609</td>\n",
       "      <td>-0.000427</td>\n",
       "      <td>-0.067003</td>\n",
       "      <td>0.102882</td>\n",
       "      <td>-0.001016</td>\n",
       "      <td>0.004374</td>\n",
       "      <td>0.009934</td>\n",
       "      <td>-0.020620</td>\n",
       "      <td>-0.033026</td>\n",
       "    </tr>\n",
       "    <tr>\n",
       "      <th>4</th>\n",
       "      <td>DS0101EN</td>\n",
       "      <td>0.038361</td>\n",
       "      <td>-0.013257</td>\n",
       "      <td>-0.034347</td>\n",
       "      <td>-0.017218</td>\n",
       "      <td>-0.003707</td>\n",
       "      <td>0.003634</td>\n",
       "      <td>0.007511</td>\n",
       "      <td>-0.007333</td>\n",
       "      <td>0.067755</td>\n",
       "      <td>-0.037664</td>\n",
       "      <td>-0.026654</td>\n",
       "      <td>-0.038843</td>\n",
       "      <td>-0.075870</td>\n",
       "      <td>-0.039574</td>\n",
       "      <td>-0.016651</td>\n",
       "      <td>0.040290</td>\n",
       "    </tr>\n",
       "  </tbody>\n",
       "</table>\n",
       "</div>"
      ],
      "text/plain": [
       "         item  CFeature0  CFeature1  CFeature2  CFeature3  CFeature4  \\\n",
       "0    CC0101EN  -0.048532   0.030396   0.003829   0.004685  -0.001384   \n",
       "1    CL0101EN   0.064290   0.044361   0.047307  -0.010566   0.012116   \n",
       "2  ML0120ENv3   0.034007  -0.002219  -0.040372   0.056647   0.110738   \n",
       "3    BD0211EN   0.009033  -0.005793   0.017004   0.080865  -0.070522   \n",
       "4    DS0101EN   0.038361  -0.013257  -0.034347  -0.017218  -0.003707   \n",
       "\n",
       "   CFeature5  CFeature6  CFeature7  CFeature8  CFeature9  CFeature10  \\\n",
       "0   0.051492   0.014301   0.027785   0.090873  -0.047259   -0.008860   \n",
       "1   0.026928   0.016909   0.095854   0.018161   0.012876   -0.003892   \n",
       "2   0.069199   0.104628  -0.027713   0.052400  -0.028607    0.079523   \n",
       "3   0.057408   0.025328  -0.040609  -0.000427  -0.067003    0.102882   \n",
       "4   0.003634   0.007511  -0.007333   0.067755  -0.037664   -0.026654   \n",
       "\n",
       "   CFeature11  CFeature12  CFeature13  CFeature14  CFeature15  \n",
       "0    0.037038    0.014460    0.045229   -0.102700    0.088245  \n",
       "1    0.065286    0.062600    0.117804    0.019665   -0.023349  \n",
       "2   -0.008803   -0.070613    0.101053   -0.023650   -0.065341  \n",
       "3   -0.001016    0.004374    0.009934   -0.020620   -0.033026  \n",
       "4   -0.038843   -0.075870   -0.039574   -0.016651    0.040290  "
      ]
     },
     "execution_count": 8,
     "metadata": {},
     "output_type": "execute_result"
    }
   ],
   "source": [
    "item_emb.head()"
   ]
  },
  {
   "cell_type": "code",
   "execution_count": 9,
   "metadata": {},
   "outputs": [],
   "source": [
    "# Merge user embedding features\n",
    "merged_df = pd.merge(rating_df, user_emb, how='left', left_on='user', right_on='user').fillna(0)\n",
    "# Merge course embedding features\n",
    "merged_df = pd.merge(merged_df, item_emb, how='left', left_on='item', right_on='item').fillna(0)"
   ]
  },
  {
   "cell_type": "code",
   "execution_count": 10,
   "metadata": {},
   "outputs": [
    {
     "data": {
      "text/html": [
       "<div>\n",
       "<style scoped>\n",
       "    .dataframe tbody tr th:only-of-type {\n",
       "        vertical-align: middle;\n",
       "    }\n",
       "\n",
       "    .dataframe tbody tr th {\n",
       "        vertical-align: top;\n",
       "    }\n",
       "\n",
       "    .dataframe thead th {\n",
       "        text-align: right;\n",
       "    }\n",
       "</style>\n",
       "<table border=\"1\" class=\"dataframe\">\n",
       "  <thead>\n",
       "    <tr style=\"text-align: right;\">\n",
       "      <th></th>\n",
       "      <th>user</th>\n",
       "      <th>item</th>\n",
       "      <th>rating</th>\n",
       "      <th>UFeature0</th>\n",
       "      <th>UFeature1</th>\n",
       "      <th>UFeature2</th>\n",
       "      <th>UFeature3</th>\n",
       "      <th>UFeature4</th>\n",
       "      <th>UFeature5</th>\n",
       "      <th>UFeature6</th>\n",
       "      <th>...</th>\n",
       "      <th>CFeature6</th>\n",
       "      <th>CFeature7</th>\n",
       "      <th>CFeature8</th>\n",
       "      <th>CFeature9</th>\n",
       "      <th>CFeature10</th>\n",
       "      <th>CFeature11</th>\n",
       "      <th>CFeature12</th>\n",
       "      <th>CFeature13</th>\n",
       "      <th>CFeature14</th>\n",
       "      <th>CFeature15</th>\n",
       "    </tr>\n",
       "  </thead>\n",
       "  <tbody>\n",
       "    <tr>\n",
       "      <th>0</th>\n",
       "      <td>1889878</td>\n",
       "      <td>CC0101EN</td>\n",
       "      <td>3.0</td>\n",
       "      <td>0.092619</td>\n",
       "      <td>-0.231117</td>\n",
       "      <td>0.207782</td>\n",
       "      <td>0.075256</td>\n",
       "      <td>-0.175193</td>\n",
       "      <td>0.505722</td>\n",
       "      <td>-0.011609</td>\n",
       "      <td>...</td>\n",
       "      <td>0.014301</td>\n",
       "      <td>0.027785</td>\n",
       "      <td>0.090873</td>\n",
       "      <td>-0.047259</td>\n",
       "      <td>-0.008860</td>\n",
       "      <td>0.037038</td>\n",
       "      <td>0.014460</td>\n",
       "      <td>0.045229</td>\n",
       "      <td>-0.102700</td>\n",
       "      <td>0.088245</td>\n",
       "    </tr>\n",
       "    <tr>\n",
       "      <th>1</th>\n",
       "      <td>1342067</td>\n",
       "      <td>CL0101EN</td>\n",
       "      <td>3.0</td>\n",
       "      <td>0.190924</td>\n",
       "      <td>0.165438</td>\n",
       "      <td>0.108368</td>\n",
       "      <td>0.069375</td>\n",
       "      <td>0.041172</td>\n",
       "      <td>-0.057720</td>\n",
       "      <td>0.116700</td>\n",
       "      <td>...</td>\n",
       "      <td>0.016909</td>\n",
       "      <td>0.095854</td>\n",
       "      <td>0.018161</td>\n",
       "      <td>0.012876</td>\n",
       "      <td>-0.003892</td>\n",
       "      <td>0.065286</td>\n",
       "      <td>0.062600</td>\n",
       "      <td>0.117804</td>\n",
       "      <td>0.019665</td>\n",
       "      <td>-0.023349</td>\n",
       "    </tr>\n",
       "    <tr>\n",
       "      <th>2</th>\n",
       "      <td>1990814</td>\n",
       "      <td>ML0120ENv3</td>\n",
       "      <td>3.0</td>\n",
       "      <td>-0.015588</td>\n",
       "      <td>0.252763</td>\n",
       "      <td>0.063455</td>\n",
       "      <td>-0.099508</td>\n",
       "      <td>-0.021063</td>\n",
       "      <td>-0.315386</td>\n",
       "      <td>-0.361852</td>\n",
       "      <td>...</td>\n",
       "      <td>0.104628</td>\n",
       "      <td>-0.027713</td>\n",
       "      <td>0.052400</td>\n",
       "      <td>-0.028607</td>\n",
       "      <td>0.079523</td>\n",
       "      <td>-0.008803</td>\n",
       "      <td>-0.070613</td>\n",
       "      <td>0.101053</td>\n",
       "      <td>-0.023650</td>\n",
       "      <td>-0.065341</td>\n",
       "    </tr>\n",
       "    <tr>\n",
       "      <th>3</th>\n",
       "      <td>380098</td>\n",
       "      <td>BD0211EN</td>\n",
       "      <td>3.0</td>\n",
       "      <td>-0.280420</td>\n",
       "      <td>-0.133849</td>\n",
       "      <td>-0.227513</td>\n",
       "      <td>0.006720</td>\n",
       "      <td>0.575470</td>\n",
       "      <td>0.153790</td>\n",
       "      <td>-0.395521</td>\n",
       "      <td>...</td>\n",
       "      <td>0.025328</td>\n",
       "      <td>-0.040609</td>\n",
       "      <td>-0.000427</td>\n",
       "      <td>-0.067003</td>\n",
       "      <td>0.102882</td>\n",
       "      <td>-0.001016</td>\n",
       "      <td>0.004374</td>\n",
       "      <td>0.009934</td>\n",
       "      <td>-0.020620</td>\n",
       "      <td>-0.033026</td>\n",
       "    </tr>\n",
       "    <tr>\n",
       "      <th>4</th>\n",
       "      <td>779563</td>\n",
       "      <td>DS0101EN</td>\n",
       "      <td>3.0</td>\n",
       "      <td>-0.015460</td>\n",
       "      <td>-0.271762</td>\n",
       "      <td>-0.472752</td>\n",
       "      <td>0.053249</td>\n",
       "      <td>-0.024169</td>\n",
       "      <td>-0.300003</td>\n",
       "      <td>0.208167</td>\n",
       "      <td>...</td>\n",
       "      <td>0.007511</td>\n",
       "      <td>-0.007333</td>\n",
       "      <td>0.067755</td>\n",
       "      <td>-0.037664</td>\n",
       "      <td>-0.026654</td>\n",
       "      <td>-0.038843</td>\n",
       "      <td>-0.075870</td>\n",
       "      <td>-0.039574</td>\n",
       "      <td>-0.016651</td>\n",
       "      <td>0.040290</td>\n",
       "    </tr>\n",
       "  </tbody>\n",
       "</table>\n",
       "<p>5 rows × 35 columns</p>\n",
       "</div>"
      ],
      "text/plain": [
       "      user        item  rating  UFeature0  UFeature1  UFeature2  UFeature3  \\\n",
       "0  1889878    CC0101EN     3.0   0.092619  -0.231117   0.207782   0.075256   \n",
       "1  1342067    CL0101EN     3.0   0.190924   0.165438   0.108368   0.069375   \n",
       "2  1990814  ML0120ENv3     3.0  -0.015588   0.252763   0.063455  -0.099508   \n",
       "3   380098    BD0211EN     3.0  -0.280420  -0.133849  -0.227513   0.006720   \n",
       "4   779563    DS0101EN     3.0  -0.015460  -0.271762  -0.472752   0.053249   \n",
       "\n",
       "   UFeature4  UFeature5  UFeature6  ...  CFeature6  CFeature7  CFeature8  \\\n",
       "0  -0.175193   0.505722  -0.011609  ...   0.014301   0.027785   0.090873   \n",
       "1   0.041172  -0.057720   0.116700  ...   0.016909   0.095854   0.018161   \n",
       "2  -0.021063  -0.315386  -0.361852  ...   0.104628  -0.027713   0.052400   \n",
       "3   0.575470   0.153790  -0.395521  ...   0.025328  -0.040609  -0.000427   \n",
       "4  -0.024169  -0.300003   0.208167  ...   0.007511  -0.007333   0.067755   \n",
       "\n",
       "   CFeature9  CFeature10  CFeature11  CFeature12  CFeature13  CFeature14  \\\n",
       "0  -0.047259   -0.008860    0.037038    0.014460    0.045229   -0.102700   \n",
       "1   0.012876   -0.003892    0.065286    0.062600    0.117804    0.019665   \n",
       "2  -0.028607    0.079523   -0.008803   -0.070613    0.101053   -0.023650   \n",
       "3  -0.067003    0.102882   -0.001016    0.004374    0.009934   -0.020620   \n",
       "4  -0.037664   -0.026654   -0.038843   -0.075870   -0.039574   -0.016651   \n",
       "\n",
       "   CFeature15  \n",
       "0    0.088245  \n",
       "1   -0.023349  \n",
       "2   -0.065341  \n",
       "3   -0.033026  \n",
       "4    0.040290  \n",
       "\n",
       "[5 rows x 35 columns]"
      ]
     },
     "execution_count": 10,
     "metadata": {},
     "output_type": "execute_result"
    }
   ],
   "source": [
    "merged_df.head()"
   ]
  },
  {
   "cell_type": "markdown",
   "metadata": {},
   "source": [
    "Each user's embedding features and each item's embedding features are added to the dataset. Next, we perform element-wise add the user features (the column labels starting with `UFeature`) and item features (the column labels starting with `CFeature`).\n"
   ]
  },
  {
   "cell_type": "code",
   "execution_count": 11,
   "metadata": {},
   "outputs": [
    {
     "data": {
      "text/html": [
       "<div>\n",
       "<style scoped>\n",
       "    .dataframe tbody tr th:only-of-type {\n",
       "        vertical-align: middle;\n",
       "    }\n",
       "\n",
       "    .dataframe tbody tr th {\n",
       "        vertical-align: top;\n",
       "    }\n",
       "\n",
       "    .dataframe thead th {\n",
       "        text-align: right;\n",
       "    }\n",
       "</style>\n",
       "<table border=\"1\" class=\"dataframe\">\n",
       "  <thead>\n",
       "    <tr style=\"text-align: right;\">\n",
       "      <th></th>\n",
       "      <th>Feature0</th>\n",
       "      <th>Feature1</th>\n",
       "      <th>Feature2</th>\n",
       "      <th>Feature3</th>\n",
       "      <th>Feature4</th>\n",
       "      <th>Feature5</th>\n",
       "      <th>Feature6</th>\n",
       "      <th>Feature7</th>\n",
       "      <th>Feature8</th>\n",
       "      <th>Feature9</th>\n",
       "      <th>Feature10</th>\n",
       "      <th>Feature11</th>\n",
       "      <th>Feature12</th>\n",
       "      <th>Feature13</th>\n",
       "      <th>Feature14</th>\n",
       "      <th>Feature15</th>\n",
       "      <th>rating</th>\n",
       "    </tr>\n",
       "  </thead>\n",
       "  <tbody>\n",
       "    <tr>\n",
       "      <th>0</th>\n",
       "      <td>0.044087</td>\n",
       "      <td>-0.200722</td>\n",
       "      <td>0.211612</td>\n",
       "      <td>0.079941</td>\n",
       "      <td>-0.176578</td>\n",
       "      <td>0.557214</td>\n",
       "      <td>0.002692</td>\n",
       "      <td>-0.297292</td>\n",
       "      <td>0.243515</td>\n",
       "      <td>-0.312871</td>\n",
       "      <td>0.085732</td>\n",
       "      <td>-0.224981</td>\n",
       "      <td>0.852787</td>\n",
       "      <td>-0.148970</td>\n",
       "      <td>-0.256628</td>\n",
       "      <td>0.478023</td>\n",
       "      <td>3.0</td>\n",
       "    </tr>\n",
       "    <tr>\n",
       "      <th>1</th>\n",
       "      <td>0.255214</td>\n",
       "      <td>0.209799</td>\n",
       "      <td>0.155675</td>\n",
       "      <td>0.058809</td>\n",
       "      <td>0.053288</td>\n",
       "      <td>-0.030793</td>\n",
       "      <td>0.133609</td>\n",
       "      <td>0.593036</td>\n",
       "      <td>-0.033315</td>\n",
       "      <td>-0.151146</td>\n",
       "      <td>0.049602</td>\n",
       "      <td>0.269773</td>\n",
       "      <td>-0.075472</td>\n",
       "      <td>0.033648</td>\n",
       "      <td>0.188053</td>\n",
       "      <td>0.009421</td>\n",
       "      <td>3.0</td>\n",
       "    </tr>\n",
       "    <tr>\n",
       "      <th>2</th>\n",
       "      <td>0.018419</td>\n",
       "      <td>0.250544</td>\n",
       "      <td>0.023083</td>\n",
       "      <td>-0.042861</td>\n",
       "      <td>0.089675</td>\n",
       "      <td>-0.246187</td>\n",
       "      <td>-0.257224</td>\n",
       "      <td>-0.083314</td>\n",
       "      <td>-0.613461</td>\n",
       "      <td>-0.117669</td>\n",
       "      <td>0.621196</td>\n",
       "      <td>0.062220</td>\n",
       "      <td>0.062062</td>\n",
       "      <td>0.279733</td>\n",
       "      <td>-0.027720</td>\n",
       "      <td>-0.127316</td>\n",
       "      <td>3.0</td>\n",
       "    </tr>\n",
       "    <tr>\n",
       "      <th>3</th>\n",
       "      <td>-0.271387</td>\n",
       "      <td>-0.139642</td>\n",
       "      <td>-0.210510</td>\n",
       "      <td>0.087585</td>\n",
       "      <td>0.504948</td>\n",
       "      <td>0.211198</td>\n",
       "      <td>-0.370193</td>\n",
       "      <td>0.117733</td>\n",
       "      <td>-0.264125</td>\n",
       "      <td>0.070176</td>\n",
       "      <td>-0.188857</td>\n",
       "      <td>0.186616</td>\n",
       "      <td>-0.275836</td>\n",
       "      <td>0.269107</td>\n",
       "      <td>-0.044541</td>\n",
       "      <td>0.135660</td>\n",
       "      <td>3.0</td>\n",
       "    </tr>\n",
       "    <tr>\n",
       "      <th>4</th>\n",
       "      <td>0.022901</td>\n",
       "      <td>-0.285020</td>\n",
       "      <td>-0.507098</td>\n",
       "      <td>0.036032</td>\n",
       "      <td>-0.027875</td>\n",
       "      <td>-0.296369</td>\n",
       "      <td>0.215679</td>\n",
       "      <td>-0.108742</td>\n",
       "      <td>-0.019546</td>\n",
       "      <td>-0.100117</td>\n",
       "      <td>0.012572</td>\n",
       "      <td>-0.134882</td>\n",
       "      <td>-0.124140</td>\n",
       "      <td>-0.226627</td>\n",
       "      <td>0.277426</td>\n",
       "      <td>0.266707</td>\n",
       "      <td>3.0</td>\n",
       "    </tr>\n",
       "  </tbody>\n",
       "</table>\n",
       "</div>"
      ],
      "text/plain": [
       "   Feature0  Feature1  Feature2  Feature3  Feature4  Feature5  Feature6  \\\n",
       "0  0.044087 -0.200722  0.211612  0.079941 -0.176578  0.557214  0.002692   \n",
       "1  0.255214  0.209799  0.155675  0.058809  0.053288 -0.030793  0.133609   \n",
       "2  0.018419  0.250544  0.023083 -0.042861  0.089675 -0.246187 -0.257224   \n",
       "3 -0.271387 -0.139642 -0.210510  0.087585  0.504948  0.211198 -0.370193   \n",
       "4  0.022901 -0.285020 -0.507098  0.036032 -0.027875 -0.296369  0.215679   \n",
       "\n",
       "   Feature7  Feature8  Feature9  Feature10  Feature11  Feature12  Feature13  \\\n",
       "0 -0.297292  0.243515 -0.312871   0.085732  -0.224981   0.852787  -0.148970   \n",
       "1  0.593036 -0.033315 -0.151146   0.049602   0.269773  -0.075472   0.033648   \n",
       "2 -0.083314 -0.613461 -0.117669   0.621196   0.062220   0.062062   0.279733   \n",
       "3  0.117733 -0.264125  0.070176  -0.188857   0.186616  -0.275836   0.269107   \n",
       "4 -0.108742 -0.019546 -0.100117   0.012572  -0.134882  -0.124140  -0.226627   \n",
       "\n",
       "   Feature14  Feature15  rating  \n",
       "0  -0.256628   0.478023     3.0  \n",
       "1   0.188053   0.009421     3.0  \n",
       "2  -0.027720  -0.127316     3.0  \n",
       "3  -0.044541   0.135660     3.0  \n",
       "4   0.277426   0.266707     3.0  "
      ]
     },
     "execution_count": 11,
     "metadata": {},
     "output_type": "execute_result"
    }
   ],
   "source": [
    "u_feautres = [f\"UFeature{i}\" for i in range(16)]\n",
    "c_features = [f\"CFeature{i}\" for i in range(16)]\n",
    "\n",
    "user_embeddings = merged_df[u_feautres]\n",
    "course_embeddings = merged_df[c_features]\n",
    "ratings = merged_df['rating']\n",
    "\n",
    "# Aggregate the two feature columns using element-wise add\n",
    "interaction_dataset = user_embeddings + course_embeddings.values\n",
    "interaction_dataset.columns = [f\"Feature{i}\" for i in range(16)]\n",
    "interaction_dataset['rating'] = ratings\n",
    "interaction_dataset.head()"
   ]
  },
  {
   "cell_type": "markdown",
   "metadata": {},
   "source": [
    "Next, let's use `LabelEncoder()` to encode our `rating` label to be categorical:\n"
   ]
  },
  {
   "cell_type": "code",
   "execution_count": 13,
   "metadata": {},
   "outputs": [],
   "source": [
    "X = interaction_dataset.iloc[:, :-1]\n",
    "y_raw = interaction_dataset.iloc[:, -1]\n",
    "\n",
    "label_encoder = LabelEncoder()\n",
    "y = label_encoder.fit_transform(y_raw.values.ravel())"
   ]
  },
  {
   "cell_type": "code",
   "execution_count": 14,
   "metadata": {},
   "outputs": [
    {
     "data": {
      "text/plain": [
       "array([1, 1, 1, ..., 1, 1, 1])"
      ]
     },
     "execution_count": 14,
     "metadata": {},
     "output_type": "execute_result"
    }
   ],
   "source": [
    "y"
   ]
  },
  {
   "cell_type": "markdown",
   "metadata": {},
   "source": [
    "and split X and y into training and testing dataset:\n"
   ]
  },
  {
   "cell_type": "code",
   "execution_count": 15,
   "metadata": {},
   "outputs": [],
   "source": [
    "X_train, X_test, y_train, y_test = train_test_split(X, y, test_size=0.2, random_state=rs)"
   ]
  },
  {
   "cell_type": "code",
   "execution_count": 16,
   "metadata": {},
   "outputs": [
    {
     "name": "stdout",
     "output_type": "stream",
     "text": [
      "Input data shape: (233306, 16), Output data shape: (233306,)\n"
     ]
    }
   ],
   "source": [
    "print(f\"Input data shape: {X.shape}, Output data shape: {y.shape}\")"
   ]
  },
  {
   "cell_type": "markdown",
   "metadata": {},
   "source": [
    "## TASK: Perform classification tasks on the interaction dataset\n"
   ]
  },
  {
   "cell_type": "markdown",
   "metadata": {},
   "source": [
    "Now our input data `X` and output label `y` is ready, let's build classification models to map `X` to `y`\n"
   ]
  },
  {
   "cell_type": "markdown",
   "metadata": {},
   "source": [
    "You may use `sklearn` to train and evaluate various regression models.\n"
   ]
  },
  {
   "cell_type": "markdown",
   "metadata": {},
   "source": [
    "*TODO: Define classification models such as Logistic Regression, Tree models, SVM, Bagging, and Boosting models*\n"
   ]
  },
  {
   "cell_type": "code",
   "execution_count": 19,
   "metadata": {},
   "outputs": [],
   "source": [
    "### WRITE YOUR CODE HERE\n",
    "from sklearn.ensemble import RandomForestClassifier\n",
    "from sklearn.model_selection import GridSearchCV"
   ]
  },
  {
   "cell_type": "markdown",
   "metadata": {},
   "source": [
    "*TODO: Train your classification models with training data*\n"
   ]
  },
  {
   "cell_type": "code",
   "execution_count": 26,
   "metadata": {},
   "outputs": [],
   "source": [
    "### WRITE YOUR CODE HERE\n",
    "\n",
    "params_grid = {\n",
    "  'max_depth': [15, 20],\n",
    "  'n_estimators': [50, 100],\n",
    "  'min_samples_split': [2, 5]\n",
    "}\n",
    "\n",
    "model = RandomForestClassifier(random_state=rs)\n",
    "\n",
    "grid_search = GridSearchCV(estimator = model, \n",
    "                       param_grid = params_grid, \n",
    "                       scoring='f1',\n",
    "                       cv = 3, verbose = 1)"
   ]
  },
  {
   "cell_type": "code",
   "execution_count": null,
   "metadata": {},
   "outputs": [],
   "source": [
    "grid_search.fit(X, y)"
   ]
  },
  {
   "cell_type": "code",
   "execution_count": 28,
   "metadata": {},
   "outputs": [
    {
     "name": "stdout",
     "output_type": "stream",
     "text": [
      "0.9868993955473416\n",
      "{'max_depth': 20, 'min_samples_split': 5, 'n_estimators': 50}\n"
     ]
    }
   ],
   "source": [
    "rfc = grid_search.best_estimator_\n",
    "\n",
    "print(grid_search.best_score_)\n",
    "print(grid_search.best_params_)"
   ]
  },
  {
   "cell_type": "markdown",
   "metadata": {},
   "source": [
    "*TODO: Evaluate your classification models*\n"
   ]
  },
  {
   "cell_type": "code",
   "execution_count": 29,
   "metadata": {},
   "outputs": [
    {
     "name": "stdout",
     "output_type": "stream",
     "text": [
      "[0.84034948 0.99326611]\n"
     ]
    }
   ],
   "source": [
    "### WRITE YOUR CODE HERE\n",
    "from sklearn.metrics import precision_recall_fscore_support\n",
    "### The main evaluation metrics could be accuracy, recall, precision, F score, and AUC.\n",
    "pred = rfc.predict(X_test)\n",
    "\n",
    "precision, recall, f1, support = precision_recall_fscore_support(y_test, pred)\n",
    "print(f1)"
   ]
  },
  {
   "cell_type": "markdown",
   "metadata": {},
   "source": [
    "### Summary\n"
   ]
  },
  {
   "cell_type": "markdown",
   "metadata": {},
   "source": [
    "In this lab, you have built and evaluated various classification models to predict categorical course rating modes using the embedding feature vectors extracted from neural networks.\n"
   ]
  },
  {
   "cell_type": "markdown",
   "metadata": {},
   "source": [
    "## Authors\n"
   ]
  },
  {
   "cell_type": "markdown",
   "metadata": {},
   "source": [
    "[Yan Luo](https://www.linkedin.com/in/yan-luo-96288783/?utm_medium=Exinfluencer&utm_source=Exinfluencer&utm_content=000026UJ&utm_term=10006555&utm_id=NA-SkillsNetwork-Channel-SkillsNetworkCoursesIBMML321ENSkillsNetwork32585014-2022-01-01)\n"
   ]
  },
  {
   "cell_type": "markdown",
   "metadata": {},
   "source": [
    "### Other Contributors\n"
   ]
  },
  {
   "cell_type": "markdown",
   "metadata": {},
   "source": [
    "## Change Log\n"
   ]
  },
  {
   "cell_type": "markdown",
   "metadata": {},
   "source": [
    "| Date (YYYY-MM-DD) | Version | Changed By | Change Description          |\n",
    "| ----------------- | ------- | ---------- | --------------------------- |\n",
    "| 2021-10-25        | 1.0     | Yan        | Created the initial version |\n"
   ]
  },
  {
   "cell_type": "markdown",
   "metadata": {},
   "source": [
    "Copyright © 2021 IBM Corporation. All rights reserved.\n"
   ]
  }
 ],
 "metadata": {
  "kernelspec": {
   "display_name": "Python 3 (ipykernel)",
   "language": "python",
   "name": "python3"
  },
  "language_info": {
   "codemirror_mode": {
    "name": "ipython",
    "version": 3
   },
   "file_extension": ".py",
   "mimetype": "text/x-python",
   "name": "python",
   "nbconvert_exporter": "python",
   "pygments_lexer": "ipython3",
   "version": "3.7.13"
  }
 },
 "nbformat": 4,
 "nbformat_minor": 4
}
