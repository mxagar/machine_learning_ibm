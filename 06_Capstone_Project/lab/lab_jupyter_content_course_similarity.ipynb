{
 "cells": [
  {
   "cell_type": "markdown",
   "metadata": {},
   "source": [
    "<p style=\"text-align:center\">\n",
    "    <a href=\"https://skills.network/?utm_medium=Exinfluencer&utm_source=Exinfluencer&utm_content=000026UJ&utm_term=10006555&utm_id=NA-SkillsNetwork-Channel-SkillsNetworkCoursesIBMML321ENSkillsNetwork32585014-2022-01-01\" target=\"_blank\">\n",
    "    <img src=\"https://cf-courses-data.s3.us.cloud-object-storage.appdomain.cloud/assets/logos/SN_web_lightmode.png\" width=\"200\" alt=\"Skills Network Logo\"  />\n",
    "    </a>\n",
    "</p>\n"
   ]
  },
  {
   "cell_type": "markdown",
   "metadata": {},
   "source": [
    "# **Content-based Course Recommender System using Course Similarities**\n"
   ]
  },
  {
   "cell_type": "markdown",
   "metadata": {},
   "source": [
    "Estimated time needed: **45** minutes\n"
   ]
  },
  {
   "cell_type": "markdown",
   "metadata": {},
   "source": [
    "In one of the previous lab, you have learned and practiced how to calculate the similarity between two courses using Bag of Words (BoW) features. For example, the similarity between course1 `Machine Learning for Everyone` and course2 `Machine Learning for Beginners` are `75%` as shown below.\n"
   ]
  },
  {
   "cell_type": "markdown",
   "metadata": {},
   "source": [
    "![](https://cf-courses-data.s3.us.cloud-object-storage.appdomain.cloud/IBM-ML321EN-SkillsNetwork/labs/module\\_2/images/course_sim.png)\n"
   ]
  },
  {
   "cell_type": "markdown",
   "metadata": {},
   "source": [
    "As we mentioned before, the content-based recommender system is highly based on the similarity calculation among items. The similarity or closeness of items is measured based on the similarity in the content or features of those items. The course genres are important features, and in addition to that, the BoW value is another important type of feature to represent course textual content.\n"
   ]
  },
  {
   "cell_type": "markdown",
   "metadata": {},
   "source": [
    "In this lab, you will apply the course similarities metric to recommend  new courses which are similar to a user's presently enrolled courses.\n"
   ]
  },
  {
   "cell_type": "markdown",
   "metadata": {},
   "source": [
    "## Objectives\n"
   ]
  },
  {
   "cell_type": "markdown",
   "metadata": {},
   "source": [
    "After completing this lab you will be able to:\n"
   ]
  },
  {
   "cell_type": "markdown",
   "metadata": {},
   "source": [
    "*   Obtain the similarity between courses from a course similarity matrix\n",
    "*   Use the course similarity matrix to find and recommend new courses which are similar to enrolled courses\n"
   ]
  },
  {
   "cell_type": "markdown",
   "metadata": {},
   "source": [
    "***\n"
   ]
  },
  {
   "cell_type": "markdown",
   "metadata": {},
   "source": [
    "## Prepare and setup lab environment\n"
   ]
  },
  {
   "cell_type": "markdown",
   "metadata": {},
   "source": [
    "Let's first install and import the required libraries:\n"
   ]
  },
  {
   "cell_type": "code",
   "execution_count": 1,
   "metadata": {},
   "outputs": [
    {
     "name": "stdout",
     "output_type": "stream",
     "text": [
      "Requirement already satisfied: seaborn==0.11.1 in /Users/mxagar/opt/anaconda3/envs/ds/lib/python3.7/site-packages (0.11.1)\n",
      "Requirement already satisfied: pandas>=0.23 in /Users/mxagar/opt/anaconda3/envs/ds/lib/python3.7/site-packages (from seaborn==0.11.1) (1.3.5)\n",
      "Requirement already satisfied: numpy>=1.15 in /Users/mxagar/opt/anaconda3/envs/ds/lib/python3.7/site-packages (from seaborn==0.11.1) (1.21.6)\n",
      "Requirement already satisfied: matplotlib>=2.2 in /Users/mxagar/opt/anaconda3/envs/ds/lib/python3.7/site-packages (from seaborn==0.11.1) (3.5.1)\n",
      "Requirement already satisfied: scipy>=1.0 in /Users/mxagar/opt/anaconda3/envs/ds/lib/python3.7/site-packages (from seaborn==0.11.1) (1.7.1)\n",
      "Requirement already satisfied: cycler>=0.10 in /Users/mxagar/opt/anaconda3/envs/ds/lib/python3.7/site-packages (from matplotlib>=2.2->seaborn==0.11.1) (0.11.0)\n",
      "Requirement already satisfied: kiwisolver>=1.0.1 in /Users/mxagar/opt/anaconda3/envs/ds/lib/python3.7/site-packages (from matplotlib>=2.2->seaborn==0.11.1) (1.4.2)\n",
      "Requirement already satisfied: fonttools>=4.22.0 in /Users/mxagar/opt/anaconda3/envs/ds/lib/python3.7/site-packages (from matplotlib>=2.2->seaborn==0.11.1) (4.25.0)\n",
      "Requirement already satisfied: pyparsing>=2.2.1 in /Users/mxagar/opt/anaconda3/envs/ds/lib/python3.7/site-packages (from matplotlib>=2.2->seaborn==0.11.1) (3.0.4)\n",
      "Requirement already satisfied: python-dateutil>=2.7 in /Users/mxagar/opt/anaconda3/envs/ds/lib/python3.7/site-packages (from matplotlib>=2.2->seaborn==0.11.1) (2.8.2)\n",
      "Requirement already satisfied: packaging>=20.0 in /Users/mxagar/opt/anaconda3/envs/ds/lib/python3.7/site-packages (from matplotlib>=2.2->seaborn==0.11.1) (21.3)\n",
      "Requirement already satisfied: pillow>=6.2.0 in /Users/mxagar/opt/anaconda3/envs/ds/lib/python3.7/site-packages (from matplotlib>=2.2->seaborn==0.11.1) (9.2.0)\n",
      "Requirement already satisfied: pytz>=2017.3 in /Users/mxagar/opt/anaconda3/envs/ds/lib/python3.7/site-packages (from pandas>=0.23->seaborn==0.11.1) (2022.1)\n",
      "Requirement already satisfied: typing-extensions in /Users/mxagar/opt/anaconda3/envs/ds/lib/python3.7/site-packages (from kiwisolver>=1.0.1->matplotlib>=2.2->seaborn==0.11.1) (4.1.1)\n",
      "Requirement already satisfied: six>=1.5 in /Users/mxagar/opt/anaconda3/envs/ds/lib/python3.7/site-packages (from python-dateutil>=2.7->matplotlib>=2.2->seaborn==0.11.1) (1.16.0)\n"
     ]
    }
   ],
   "source": [
    "!pip install seaborn==0.11.1"
   ]
  },
  {
   "cell_type": "code",
   "execution_count": 2,
   "metadata": {},
   "outputs": [],
   "source": [
    "import seaborn as sns\n",
    "import matplotlib.pyplot as plt\n",
    "import pandas as pd\n",
    "import numpy as np\n",
    "\n",
    "%matplotlib inline"
   ]
  },
  {
   "cell_type": "code",
   "execution_count": 4,
   "metadata": {},
   "outputs": [],
   "source": [
    "# also set a random state\n",
    "rs = 123"
   ]
  },
  {
   "cell_type": "markdown",
   "metadata": {},
   "source": [
    "Next, let's load a pre-made course similarity matrix. If you are interested, you could easily calculate such a similarity matrix by iterating through all possible course pairs and calculating their similarities.\n"
   ]
  },
  {
   "cell_type": "code",
   "execution_count": 6,
   "metadata": {},
   "outputs": [],
   "source": [
    "#sim_url = \"https://cf-courses-data.s3.us.cloud-object-storage.appdomain.cloud/IBM-ML321EN-SkillsNetwork/labs/datasets/sim.csv\"\n",
    "#sim_df = pd.read_csv(sim_url)\n",
    "#sim_df.to_csv('data/sim.csv', sep=',', header=True, index=False)\n",
    "sim_df = pd.read_csv('data/sim.csv')"
   ]
  },
  {
   "cell_type": "code",
   "execution_count": 7,
   "metadata": {},
   "outputs": [
    {
     "data": {
      "text/html": [
       "<div>\n",
       "<style scoped>\n",
       "    .dataframe tbody tr th:only-of-type {\n",
       "        vertical-align: middle;\n",
       "    }\n",
       "\n",
       "    .dataframe tbody tr th {\n",
       "        vertical-align: top;\n",
       "    }\n",
       "\n",
       "    .dataframe thead th {\n",
       "        text-align: right;\n",
       "    }\n",
       "</style>\n",
       "<table border=\"1\" class=\"dataframe\">\n",
       "  <thead>\n",
       "    <tr style=\"text-align: right;\">\n",
       "      <th></th>\n",
       "      <th>0</th>\n",
       "      <th>1</th>\n",
       "      <th>2</th>\n",
       "      <th>3</th>\n",
       "      <th>4</th>\n",
       "      <th>5</th>\n",
       "      <th>6</th>\n",
       "      <th>7</th>\n",
       "      <th>8</th>\n",
       "      <th>9</th>\n",
       "      <th>...</th>\n",
       "      <th>297</th>\n",
       "      <th>298</th>\n",
       "      <th>299</th>\n",
       "      <th>300</th>\n",
       "      <th>301</th>\n",
       "      <th>302</th>\n",
       "      <th>303</th>\n",
       "      <th>304</th>\n",
       "      <th>305</th>\n",
       "      <th>306</th>\n",
       "    </tr>\n",
       "  </thead>\n",
       "  <tbody>\n",
       "    <tr>\n",
       "      <th>0</th>\n",
       "      <td>1.000000</td>\n",
       "      <td>0.088889</td>\n",
       "      <td>0.088475</td>\n",
       "      <td>0.065556</td>\n",
       "      <td>0.048810</td>\n",
       "      <td>0.104685</td>\n",
       "      <td>0.065202</td>\n",
       "      <td>0.143346</td>\n",
       "      <td>0.000000</td>\n",
       "      <td>0.024405</td>\n",
       "      <td>...</td>\n",
       "      <td>0.012695</td>\n",
       "      <td>0.070225</td>\n",
       "      <td>0.058224</td>\n",
       "      <td>0.046610</td>\n",
       "      <td>0.025850</td>\n",
       "      <td>0.033944</td>\n",
       "      <td>0.076825</td>\n",
       "      <td>0.072898</td>\n",
       "      <td>0.039276</td>\n",
       "      <td>0.121113</td>\n",
       "    </tr>\n",
       "    <tr>\n",
       "      <th>1</th>\n",
       "      <td>0.088889</td>\n",
       "      <td>1.000000</td>\n",
       "      <td>0.055202</td>\n",
       "      <td>0.057264</td>\n",
       "      <td>0.012182</td>\n",
       "      <td>0.078379</td>\n",
       "      <td>0.032545</td>\n",
       "      <td>0.119251</td>\n",
       "      <td>0.044162</td>\n",
       "      <td>0.000000</td>\n",
       "      <td>...</td>\n",
       "      <td>0.180593</td>\n",
       "      <td>0.124631</td>\n",
       "      <td>0.087187</td>\n",
       "      <td>0.093060</td>\n",
       "      <td>0.019354</td>\n",
       "      <td>0.028239</td>\n",
       "      <td>0.063911</td>\n",
       "      <td>0.138270</td>\n",
       "      <td>0.031367</td>\n",
       "      <td>0.076940</td>\n",
       "    </tr>\n",
       "    <tr>\n",
       "      <th>2</th>\n",
       "      <td>0.088475</td>\n",
       "      <td>0.055202</td>\n",
       "      <td>1.000000</td>\n",
       "      <td>0.026463</td>\n",
       "      <td>0.039406</td>\n",
       "      <td>0.000000</td>\n",
       "      <td>0.000000</td>\n",
       "      <td>0.154303</td>\n",
       "      <td>0.000000</td>\n",
       "      <td>0.000000</td>\n",
       "      <td>...</td>\n",
       "      <td>0.040996</td>\n",
       "      <td>0.037796</td>\n",
       "      <td>0.013430</td>\n",
       "      <td>0.037630</td>\n",
       "      <td>0.000000</td>\n",
       "      <td>0.018270</td>\n",
       "      <td>0.082698</td>\n",
       "      <td>0.133400</td>\n",
       "      <td>0.012684</td>\n",
       "      <td>0.000000</td>\n",
       "    </tr>\n",
       "    <tr>\n",
       "      <th>3</th>\n",
       "      <td>0.065556</td>\n",
       "      <td>0.057264</td>\n",
       "      <td>0.026463</td>\n",
       "      <td>1.000000</td>\n",
       "      <td>0.000000</td>\n",
       "      <td>0.250490</td>\n",
       "      <td>0.390038</td>\n",
       "      <td>0.000000</td>\n",
       "      <td>0.000000</td>\n",
       "      <td>0.000000</td>\n",
       "      <td>...</td>\n",
       "      <td>0.151882</td>\n",
       "      <td>0.420084</td>\n",
       "      <td>0.427908</td>\n",
       "      <td>0.055764</td>\n",
       "      <td>0.000000</td>\n",
       "      <td>0.094759</td>\n",
       "      <td>0.030638</td>\n",
       "      <td>0.017443</td>\n",
       "      <td>0.018796</td>\n",
       "      <td>0.158073</td>\n",
       "    </tr>\n",
       "    <tr>\n",
       "      <th>4</th>\n",
       "      <td>0.048810</td>\n",
       "      <td>0.012182</td>\n",
       "      <td>0.039406</td>\n",
       "      <td>0.000000</td>\n",
       "      <td>1.000000</td>\n",
       "      <td>0.000000</td>\n",
       "      <td>0.000000</td>\n",
       "      <td>0.085126</td>\n",
       "      <td>0.000000</td>\n",
       "      <td>0.000000</td>\n",
       "      <td>...</td>\n",
       "      <td>0.000000</td>\n",
       "      <td>0.000000</td>\n",
       "      <td>0.000000</td>\n",
       "      <td>0.096877</td>\n",
       "      <td>0.000000</td>\n",
       "      <td>0.060474</td>\n",
       "      <td>0.030415</td>\n",
       "      <td>0.129871</td>\n",
       "      <td>0.000000</td>\n",
       "      <td>0.000000</td>\n",
       "    </tr>\n",
       "  </tbody>\n",
       "</table>\n",
       "<p>5 rows × 307 columns</p>\n",
       "</div>"
      ],
      "text/plain": [
       "          0         1         2         3         4         5         6  \\\n",
       "0  1.000000  0.088889  0.088475  0.065556  0.048810  0.104685  0.065202   \n",
       "1  0.088889  1.000000  0.055202  0.057264  0.012182  0.078379  0.032545   \n",
       "2  0.088475  0.055202  1.000000  0.026463  0.039406  0.000000  0.000000   \n",
       "3  0.065556  0.057264  0.026463  1.000000  0.000000  0.250490  0.390038   \n",
       "4  0.048810  0.012182  0.039406  0.000000  1.000000  0.000000  0.000000   \n",
       "\n",
       "          7         8         9  ...       297       298       299       300  \\\n",
       "0  0.143346  0.000000  0.024405  ...  0.012695  0.070225  0.058224  0.046610   \n",
       "1  0.119251  0.044162  0.000000  ...  0.180593  0.124631  0.087187  0.093060   \n",
       "2  0.154303  0.000000  0.000000  ...  0.040996  0.037796  0.013430  0.037630   \n",
       "3  0.000000  0.000000  0.000000  ...  0.151882  0.420084  0.427908  0.055764   \n",
       "4  0.085126  0.000000  0.000000  ...  0.000000  0.000000  0.000000  0.096877   \n",
       "\n",
       "        301       302       303       304       305       306  \n",
       "0  0.025850  0.033944  0.076825  0.072898  0.039276  0.121113  \n",
       "1  0.019354  0.028239  0.063911  0.138270  0.031367  0.076940  \n",
       "2  0.000000  0.018270  0.082698  0.133400  0.012684  0.000000  \n",
       "3  0.000000  0.094759  0.030638  0.017443  0.018796  0.158073  \n",
       "4  0.000000  0.060474  0.030415  0.129871  0.000000  0.000000  \n",
       "\n",
       "[5 rows x 307 columns]"
      ]
     },
     "execution_count": 7,
     "metadata": {},
     "output_type": "execute_result"
    }
   ],
   "source": [
    "sim_df.head()"
   ]
  },
  {
   "cell_type": "markdown",
   "metadata": {},
   "source": [
    "The similarity matrix is a real number, symmetric metric with each element representing the similarity value (ranged 0 to 1) between course index `i` and course index `j`.\n"
   ]
  },
  {
   "cell_type": "markdown",
   "metadata": {},
   "source": [
    "We could use `seaborn` to visualize the similarity metric, and since it is symmetric, we can just show the triangular  matrix (lower left):\n"
   ]
  },
  {
   "cell_type": "code",
   "execution_count": null,
   "metadata": {},
   "outputs": [],
   "source": [
    "# Configure seaborn\n",
    "sns.set_theme(style=\"white\")\n",
    "mask = np.triu(np.ones_like(sim_df, dtype=bool))\n",
    "_, ax = plt.subplots(figsize=(11, 9))\n",
    "cmap = sns.diverging_palette(230, 20, as_cmap=True)\n",
    "# Plot a similarity heat map\n",
    "sns.heatmap(sim_df, mask=mask, cmap=cmap, vmin=0.01, vmax=1, center=0,\n",
    "            square=True)"
   ]
  },
  {
   "cell_type": "markdown",
   "metadata": {},
   "source": [
    "As we can see from the heatmap; there are many hot spots, which means many courses are similar to each other. Such patterns suggest that it is possible to build a recommender system based on course similarities.\n"
   ]
  },
  {
   "cell_type": "markdown",
   "metadata": {},
   "source": [
    "Let's take a look at a quick example:\n"
   ]
  },
  {
   "cell_type": "code",
   "execution_count": null,
   "metadata": {},
   "outputs": [],
   "source": [
    "# Let's first load the course content and BoW dataset\n",
    "course_url = \"https://cf-courses-data.s3.us.cloud-object-storage.appdomain.cloud/IBM-ML321EN-SkillsNetwork/labs/datasets/course_processed.csv\"\n",
    "course_df = pd.read_csv(course_url)\n",
    "bow_url = \"https://cf-courses-data.s3.us.cloud-object-storage.appdomain.cloud/IBM-ML321EN-SkillsNetwork/labs/datasets/courses_bows.csv\"\n",
    "bow_df = pd.read_csv(bow_url)"
   ]
  },
  {
   "cell_type": "code",
   "execution_count": null,
   "metadata": {},
   "outputs": [],
   "source": [
    "bow_df.head()"
   ]
  },
  {
   "cell_type": "markdown",
   "metadata": {},
   "source": [
    "First, we want to mention that the matrix indices are course indices (such as `0, 1, 2, 3`). Very often we need to query the actual course ids (such as `ML0151EN` and `ML0101ENv3`) based on course indices and vice versa. We can save the course id's and indices into two dictionaries for late queries:\n"
   ]
  },
  {
   "cell_type": "markdown",
   "metadata": {},
   "source": [
    "Then, based on the `doc_index` and `doc_id` columns, we create an index to id mapping and another id to index mapping in two Python dictionaries:\n"
   ]
  },
  {
   "cell_type": "code",
   "execution_count": null,
   "metadata": {},
   "outputs": [],
   "source": [
    "# Create course id to index and index to id mappings\n",
    "def get_doc_dicts(bow_df):\n",
    "    grouped_df = bow_df.groupby(['doc_index', 'doc_id']).max().reset_index(drop=False)\n",
    "    idx_id_dict = grouped_df[['doc_id']].to_dict()['doc_id']\n",
    "    id_idx_dict = {v: k for k, v in idx_id_dict.items()}\n",
    "    del grouped_df\n",
    "    return idx_id_dict, id_idx_dict"
   ]
  },
  {
   "cell_type": "markdown",
   "metadata": {},
   "source": [
    "Now suppose we have two example courses:\n"
   ]
  },
  {
   "cell_type": "code",
   "execution_count": null,
   "metadata": {},
   "outputs": [],
   "source": [
    "course1 = course_df[course_df['COURSE_ID'] == \"ML0151EN\"]\n",
    "course1"
   ]
  },
  {
   "cell_type": "code",
   "execution_count": null,
   "metadata": {},
   "outputs": [],
   "source": [
    "course2 = course_df[course_df['COURSE_ID'] == \"ML0101ENv3\"]\n",
    "course2"
   ]
  },
  {
   "cell_type": "markdown",
   "metadata": {},
   "source": [
    "From their titles we can see they are all about machine learning. As such, they should be very similar to each other. Let's try to find their similarity in the similarity matrix.\n",
    "\n",
    "With their course ids, we can use the `id_idx_dict` dictionary to query their row and column index on the similarity matrix:\n"
   ]
  },
  {
   "cell_type": "code",
   "execution_count": null,
   "metadata": {},
   "outputs": [],
   "source": [
    "idx_id_dict, id_idx_dict = get_doc_dicts(bow_df)\n",
    "idx1 = id_idx_dict[\"ML0151EN\"]\n",
    "idx2 = id_idx_dict[\"ML0101ENv3\"]\n",
    "print(f\"Course 1's index is {idx1} and Course 2's index is {idx2}\")"
   ]
  },
  {
   "cell_type": "markdown",
   "metadata": {},
   "source": [
    "Then we can locate their similarity value in row 200 and col 158, `sim_matrix[200][158]`:\n"
   ]
  },
  {
   "cell_type": "code",
   "execution_count": null,
   "metadata": {},
   "outputs": [],
   "source": [
    "sim_matrix = sim_df.to_numpy()"
   ]
  },
  {
   "cell_type": "code",
   "execution_count": null,
   "metadata": {},
   "outputs": [],
   "source": [
    "sim = sim_matrix[idx1][idx2]\n",
    "sim"
   ]
  },
  {
   "cell_type": "markdown",
   "metadata": {},
   "source": [
    "It's about 66% meaning these two courses are quite similar to each other.\n"
   ]
  },
  {
   "cell_type": "markdown",
   "metadata": {},
   "source": [
    "### TASK: Find courses which are similar enough to your enrolled courses.\n"
   ]
  },
  {
   "cell_type": "markdown",
   "metadata": {},
   "source": [
    "Now you know how to easily use the pre-computed similarity matrix to query the similarity between any two courses. Do you want to make some course recommendations for yourself?\n",
    "\n",
    "Let's assume you are an end-user of the online course platform and already audited or completed some courses previously. Next, you expect the system would recommend similar courses based on your enrollments history.\n"
   ]
  },
  {
   "cell_type": "markdown",
   "metadata": {},
   "source": [
    "From the full course list, choose any courses that may interest you, such as those machine learning related courses:\n"
   ]
  },
  {
   "cell_type": "code",
   "execution_count": null,
   "metadata": {},
   "outputs": [],
   "source": [
    "pd.set_option('display.max_rows', None)\n",
    "pd.set_option('max_colwidth', None)\n",
    "course_df[['COURSE_ID', 'TITLE']]"
   ]
  },
  {
   "cell_type": "code",
   "execution_count": null,
   "metadata": {},
   "outputs": [],
   "source": [
    "# Reset pandas settings\n",
    "pd.reset_option('display.max_rows')\n",
    "pd.reset_option('max_colwidth')"
   ]
  },
  {
   "cell_type": "markdown",
   "metadata": {},
   "source": [
    "*TODO: Browse the course list and choose your interested courses*\n"
   ]
  },
  {
   "cell_type": "code",
   "execution_count": null,
   "metadata": {},
   "outputs": [],
   "source": [
    "enrolled_course_ids = [ ] # add your interested coures id to the list"
   ]
  },
  {
   "cell_type": "code",
   "execution_count": null,
   "metadata": {},
   "outputs": [],
   "source": [
    "enrolled_courses = course_df[course_df['COURSE_ID'].isin(enrolled_course_ids)]\n",
    "enrolled_courses"
   ]
  },
  {
   "cell_type": "markdown",
   "metadata": {},
   "source": [
    "Given the full course list, we can find those unselected courses:\n"
   ]
  },
  {
   "cell_type": "code",
   "execution_count": null,
   "metadata": {},
   "outputs": [],
   "source": [
    "all_courses = set(course_df['COURSE_ID'])"
   ]
  },
  {
   "cell_type": "code",
   "execution_count": null,
   "metadata": {},
   "outputs": [],
   "source": [
    "unselected_course_ids = all_courses.difference(enrolled_course_ids)\n",
    "unselected_course_ids"
   ]
  },
  {
   "cell_type": "markdown",
   "metadata": {},
   "source": [
    "Now, you can iterate each unselect course and check if it is similar enough to any of your selected courses. If the similarity is larger than a threshold such as 0.5 or 0.6, then add it to your course recommendation list:\n"
   ]
  },
  {
   "cell_type": "markdown",
   "metadata": {},
   "source": [
    "*TODO: Complete the following method to recommend courses which are similar to your enrolled courses*\n"
   ]
  },
  {
   "cell_type": "code",
   "execution_count": null,
   "metadata": {},
   "outputs": [],
   "source": [
    "def generate_recommendations_for_one_user(enrolled_course_ids, unselected_course_ids, id_idx_dict, sim_matrix):\n",
    "    # Create a dictionary to store your recommendation results\n",
    "    res = {}\n",
    "    threshold = 0.6 \n",
    "    for enrolled_course in enrolled_course_ids:\n",
    "        for unselect_course in unselected_course_ids:\n",
    "            if enrolled_course in id_idx_dict and unselect_course in id_idx_dict:\n",
    "                \n",
    "                sim = 0\n",
    "                # Find the two indices for each enrolled_course and unselect_course, based on their two ids\n",
    "                # Calculate the similarity between an enrolled_course and an unselect_course\n",
    "                # e.g., Course ML0151EN's index is 200 and Course ML0101ENv3's index is 158\n",
    "                \n",
    "                # Find the similarity value from the sim_matrix\n",
    "                # sim = sim_matrix[200][158]\n",
    "                \n",
    "                if sim > threshold:\n",
    "                    if unselect_course not in res:\n",
    "                        res[unselect_course] = sim\n",
    "                    else:\n",
    "                        if sim >= res[unselect_course]:\n",
    "                            res[unselect_course] = sim\n",
    "                            \n",
    "    # Sort the results by similarity\n",
    "    res = {k: v for k, v in sorted(res.items(), key=lambda item: item[1], reverse=True)}\n",
    "    return res"
   ]
  },
  {
   "cell_type": "markdown",
   "metadata": {},
   "source": [
    "The completed `generate_recommendations_user(...)` may ouput a dictionary like this:\n"
   ]
  },
  {
   "cell_type": "markdown",
   "metadata": {},
   "source": [
    "{'ML0151EN': 0.6626221399549089,\n",
    "'excourse47': 0.6347547807096177,\n",
    "'excourse46': 0.6120541193300345}\n"
   ]
  },
  {
   "cell_type": "markdown",
   "metadata": {},
   "source": [
    "### TASK: Generate course recommendations based on course similarities for all test uesrs\n"
   ]
  },
  {
   "cell_type": "markdown",
   "metadata": {},
   "source": [
    "In the previous task, you made some recommendations for yourself. Next, let's try to make recommendations for all the test users in the test dataset.\n"
   ]
  },
  {
   "cell_type": "code",
   "execution_count": null,
   "metadata": {},
   "outputs": [],
   "source": [
    "test_users_url = \"https://cf-courses-data.s3.us.cloud-object-storage.appdomain.cloud/IBM-ML321EN-SkillsNetwork/labs/datasets/rs_content_test.csv\"\n",
    "test_users_df = pd.read_csv(test_users_url)"
   ]
  },
  {
   "cell_type": "markdown",
   "metadata": {},
   "source": [
    "Let's look at how many test users we have in the dataset.\n"
   ]
  },
  {
   "cell_type": "code",
   "execution_count": null,
   "metadata": {},
   "outputs": [],
   "source": [
    "test_users = test_users_df.groupby(['user']).max().reset_index(drop=False)\n",
    "test_user_ids = test_users['user'].to_list()\n",
    "print(f\"Total numbers of test users {len(test_user_ids)}\")"
   ]
  },
  {
   "cell_type": "markdown",
   "metadata": {},
   "source": [
    "*TODO: Complete the `generate_recommendations_for_all()` method to generate recommendations for all users. You may implement the task with different solutions*\n"
   ]
  },
  {
   "cell_type": "code",
   "execution_count": null,
   "metadata": {},
   "outputs": [],
   "source": [
    "# WRITE YOUR CODE HERE\n",
    "def generate_recommendations_for_all():\n",
    "    users = []\n",
    "    courses = []\n",
    "    sim_scores = []\n",
    "    # Test user dataframe\n",
    "    # Course similarity matrix\n",
    "    sim_df = pd.read_csv(sim_url)\n",
    "    # Course content dataframe\n",
    "    course_df = pd.read_csv(course_url)\n",
    "    # Course BoW features\n",
    "    bow_df = pd.read_csv(bow_url)\n",
    "    test_users = test_users_df.groupby(['user']).max().reset_index(drop=False)\n",
    "    test_user_ids = test_users['user'].to_list()\n",
    "    \n",
    "    # ...\n",
    "    \n",
    "    for user_id in test_user_ids:\n",
    "        users.append(user_id)\n",
    "        # For each user, call generate_recommendations_for_one_user() to generate the recommendation results\n",
    "        # Save the result to courses, sim_scores list\n",
    "        pass\n",
    "    \n",
    "    return users, courses, sim_scores"
   ]
  },
  {
   "cell_type": "markdown",
   "metadata": {},
   "source": [
    "After you completed the `generate_recommendations_for_all()` function, you can call it to save the results into a dataframe:\n"
   ]
  },
  {
   "cell_type": "code",
   "execution_count": null,
   "metadata": {},
   "outputs": [],
   "source": [
    "res_dict = {}\n",
    "users, courses, sim_scores = generate_recommendations_for_all()\n",
    "res_dict['USER'] = users\n",
    "res_dict['COURSE_ID'] = courses\n",
    "res_dict['SCORE'] = sim_scores\n",
    "res_df = pd.DataFrame(res_dict, columns=['USER', 'COURSE_ID', 'SCORE'])"
   ]
  },
  {
   "cell_type": "markdown",
   "metadata": {},
   "source": [
    "Similar to the previous user profile and course genre lab, with the recommendations generated for each user, you need to write some extra analytic code to answer the following questions:\n"
   ]
  },
  {
   "cell_type": "markdown",
   "metadata": {},
   "source": [
    "*   On average, how many new/unseen courses have been recommended to each user?\n",
    "*   What are the most frequently recommended courses? Return the top-10 commonly recommended courses across all users?\n"
   ]
  },
  {
   "cell_type": "markdown",
   "metadata": {},
   "source": [
    "For example, suppose we have only 3 test users, each user receives the following recommendations:\n"
   ]
  },
  {
   "cell_type": "markdown",
   "metadata": {},
   "source": [
    "*   User1: \\['course1', 'course2']\n",
    "*   User2: \\['course3', 'course4']\n",
    "*   User3: \\['course3', 'course4', 'course5']\n"
   ]
  },
  {
   "cell_type": "markdown",
   "metadata": {},
   "source": [
    "Then, the average recommended courses per user is $(2 + 2 + 3) / 3 = 2.33$. The top-2 recommended courses are: `course3`: 2 times, and `course4`: 2 times.\n"
   ]
  },
  {
   "cell_type": "markdown",
   "metadata": {},
   "source": [
    "Note that the answers may depend on your similarity threshold (default is 0.6). A lower similarity threshold yields more recommended courses but with smaller irrelevance.\n",
    "\n",
    "Ideally, we should limit the maximum course recommendations for each user to be less than 20 courses per user.\n"
   ]
  },
  {
   "cell_type": "markdown",
   "metadata": {},
   "source": [
    "## Authors\n"
   ]
  },
  {
   "cell_type": "markdown",
   "metadata": {},
   "source": [
    "[Yan Luo](https://www.linkedin.com/in/yan-luo-96288783/?utm_medium=Exinfluencer&utm_source=Exinfluencer&utm_content=000026UJ&utm_term=10006555&utm_id=NA-SkillsNetwork-Channel-SkillsNetworkCoursesIBMML321ENSkillsNetwork32585014-2022-01-01)\n"
   ]
  },
  {
   "cell_type": "markdown",
   "metadata": {},
   "source": [
    "### Other Contributors\n"
   ]
  },
  {
   "cell_type": "markdown",
   "metadata": {},
   "source": [
    "## Change Log\n"
   ]
  },
  {
   "cell_type": "markdown",
   "metadata": {},
   "source": [
    "| Date (YYYY-MM-DD) | Version | Changed By | Change Description          |\n",
    "| ----------------- | ------- | ---------- | --------------------------- |\n",
    "| 2021-10-25        | 1.0     | Yan        | Created the initial version |\n"
   ]
  },
  {
   "cell_type": "markdown",
   "metadata": {},
   "source": [
    "Copyright © 2021 IBM Corporation. All rights reserved.\n"
   ]
  }
 ],
 "metadata": {
  "kernelspec": {
   "display_name": "Python 3 (ipykernel)",
   "language": "python",
   "name": "python3"
  },
  "language_info": {
   "codemirror_mode": {
    "name": "ipython",
    "version": 3
   },
   "file_extension": ".py",
   "mimetype": "text/x-python",
   "name": "python",
   "nbconvert_exporter": "python",
   "pygments_lexer": "ipython3",
   "version": "3.7.13"
  }
 },
 "nbformat": 4,
 "nbformat_minor": 4
}
