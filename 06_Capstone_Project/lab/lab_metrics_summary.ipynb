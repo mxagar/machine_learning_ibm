{
 "cells": [
  {
   "cell_type": "code",
   "execution_count": 23,
   "id": "a135efdc-67f5-4601-a45c-d4dd53f5edc2",
   "metadata": {},
   "outputs": [],
   "source": [
    "import numpy as np\n",
    "import pandas as pd\n",
    "from matplotlib import pyplot as plt\n",
    "import seaborn as sns"
   ]
  },
  {
   "cell_type": "code",
   "execution_count": 2,
   "id": "431ce9aa-e712-44ae-92cc-dedb3311e540",
   "metadata": {},
   "outputs": [],
   "source": [
    "rmse_knn = 0.19438050263788512"
   ]
  },
  {
   "cell_type": "code",
   "execution_count": 3,
   "id": "49e12354-b7d8-41bb-a9be-4748763ad3d2",
   "metadata": {},
   "outputs": [],
   "source": [
    "rmse_nmf = 0.3360953022513968"
   ]
  },
  {
   "cell_type": "code",
   "execution_count": 4,
   "id": "da34534b-bfa9-4ad0-8079-d33ed0d2565a",
   "metadata": {},
   "outputs": [],
   "source": [
    "rmse_ann = 0.31914677184919854"
   ]
  },
  {
   "cell_type": "code",
   "execution_count": 5,
   "id": "7566ef5e-6077-4412-9a88-044a9307f834",
   "metadata": {},
   "outputs": [],
   "source": [
    "rmse_ann_lr = 0.20798726630543732"
   ]
  },
  {
   "cell_type": "code",
   "execution_count": 6,
   "id": "ab21e882-a2a5-4bee-aa4b-9ea43e9ff0cd",
   "metadata": {},
   "outputs": [],
   "source": [
    "rmse_ann_rf = 0.11367814584832445"
   ]
  },
  {
   "cell_type": "code",
   "execution_count": 33,
   "id": "c93ab17f-5d73-4214-86f8-4d37a4be11c8",
   "metadata": {},
   "outputs": [],
   "source": [
    "rmse = dict(knn_course=rmse_knn,\n",
    "            nmf=rmse_nmf,\n",
    "            ann=rmse_ann,\n",
    "            ann_regress=rmse_ann_lr,\n",
    "            ann_classif=rmse_ann_rf)\n"
   ]
  },
  {
   "cell_type": "code",
   "execution_count": 34,
   "id": "752fc0f3-73a0-4d97-adf1-16ea607076a0",
   "metadata": {},
   "outputs": [
    {
     "data": {
      "text/plain": [
       "{'knn_course': 0.19438050263788512,\n",
       " 'nmf': 0.3360953022513968,\n",
       " 'ann': 0.31914677184919854,\n",
       " 'ann_regress': 0.20798726630543732,\n",
       " 'ann_classif': 0.11367814584832445}"
      ]
     },
     "execution_count": 34,
     "metadata": {},
     "output_type": "execute_result"
    }
   ],
   "source": [
    "rmse"
   ]
  },
  {
   "cell_type": "code",
   "execution_count": 35,
   "id": "00ec2fb4-f4e5-4f92-8472-2d335a5adfd8",
   "metadata": {},
   "outputs": [],
   "source": [
    "rmse_values = list(rmse.values())\n",
    "rmse_keys = list(rmse.keys())"
   ]
  },
  {
   "cell_type": "code",
   "execution_count": 36,
   "id": "4d4daea3-8a2b-4a9b-a572-3ed611f9564b",
   "metadata": {},
   "outputs": [],
   "source": [
    "rmse_df = pd.DataFrame({\"Model\": rmse_keys, \"RMSE\": rmse_values})"
   ]
  },
  {
   "cell_type": "code",
   "execution_count": 37,
   "id": "548a1d6e-78a3-4ebd-942c-3d2bbd08342b",
   "metadata": {},
   "outputs": [
    {
     "data": {
      "text/plain": [
       "<AxesSubplot:>"
      ]
     },
     "execution_count": 37,
     "metadata": {},
     "output_type": "execute_result"
    },
    {
     "data": {
      "image/png": "[encoded data removed]",
      "text/plain": [
       "<Figure size 432x288 with 1 Axes>"
      ]
     },
     "metadata": {
      "needs_background": "light"
     },
     "output_type": "display_data"
    }
   ],
   "source": [
    "rmse_df.plot(kind='bar')"
   ]
  },
  {
   "cell_type": "code",
   "execution_count": 38,
   "id": "a0327ebe-4233-4283-ab79-7c7e30823f7c",
   "metadata": {},
   "outputs": [
    {
     "data": {
      "image/png": "[encoded data removed]",
      "text/plain": [
       "<Figure size 432x288 with 1 Axes>"
      ]
     },
     "metadata": {
      "needs_background": "light"
     },
     "output_type": "display_data"
    }
   ],
   "source": [
    "bplot = sns.barplot(data=rmse_df, x='Model', y='RMSE')\n",
    "bplot.bar_label(bplot.containers[0])\n",
    "plt.savefig('rmse_cf.png',dpi=300,transparent=False,bbox_inches='tight')\n",
    "plt.show()"
   ]
  },
  {
   "cell_type": "code",
   "execution_count": null,
   "id": "ed04f3d2-456a-48ac-88b3-c0c347920c82",
   "metadata": {},
   "outputs": [],
   "source": []
  },
  {
   "cell_type": "code",
   "execution_count": null,
   "id": "1c7ea26b-df71-4118-b534-63da661e27e5",
   "metadata": {},
   "outputs": [],
   "source": []
  }
 ],
 "metadata": {
  "kernelspec": {
   "display_name": "Python 3 (ipykernel)",
   "language": "python",
   "name": "python3"
  },
  "language_info": {
   "codemirror_mode": {
    "name": "ipython",
    "version": 3
   },
   "file_extension": ".py",
   "mimetype": "text/x-python",
   "name": "python",
   "nbconvert_exporter": "python",
   "pygments_lexer": "ipython3",
   "version": "3.7.13"
  }
 },
 "nbformat": 4,
 "nbformat_minor": 5
}
